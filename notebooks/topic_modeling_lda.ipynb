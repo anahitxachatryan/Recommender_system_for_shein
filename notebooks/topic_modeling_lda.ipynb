{
 "cells": [
  {
   "cell_type": "code",
   "execution_count": 108,
   "id": "6fc7afe9",
   "metadata": {},
   "outputs": [],
   "source": [
    "import pandas as pd\n",
    "from sklearn.feature_extraction.text import CountVectorizer\n",
    "from sklearn.decomposition import LatentDirichletAllocation\n",
    "\n",
    "import numpy as np\n",
    "import random\n",
    "\n",
    "import plotly.express as px"
   ]
  },
  {
   "cell_type": "code",
   "execution_count": 109,
   "id": "f5861c85",
   "metadata": {},
   "outputs": [],
   "source": [
    "path = './data/'\n",
    "shein_df = pd.read_csv(path+'shein_data_clean.csv')"
   ]
  },
  {
   "cell_type": "code",
   "execution_count": 110,
   "id": "7cb90861",
   "metadata": {},
   "outputs": [],
   "source": [
    "shein_df['title_preprocessed'] = shein_df['title'].str.lower()\n",
    "shein_df['title_preprocessed'] = [i.replace('shein', '') for i in shein_df['title_preprocessed']]"
   ]
  },
  {
   "cell_type": "code",
   "execution_count": 111,
   "id": "52a4654a",
   "metadata": {},
   "outputs": [],
   "source": [
    "cv = CountVectorizer(max_df=0.90, min_df=2, stop_words='english')"
   ]
  },
  {
   "cell_type": "code",
   "execution_count": 112,
   "id": "070da21e",
   "metadata": {},
   "outputs": [],
   "source": [
    "dtm = cv.fit_transform(shein_df['title_preprocessed'])"
   ]
  },
  {
   "cell_type": "code",
   "execution_count": 118,
   "id": "51bf7126",
   "metadata": {},
   "outputs": [],
   "source": [
    "n_components = 26\n",
    "LDA = LatentDirichletAllocation(n_components=n_components,random_state=42)"
   ]
  },
  {
   "cell_type": "code",
   "execution_count": 119,
   "id": "febd17ad",
   "metadata": {},
   "outputs": [
    {
     "data": {
      "text/plain": [
       "LatentDirichletAllocation(n_components=26, random_state=42)"
      ]
     },
     "execution_count": 119,
     "metadata": {},
     "output_type": "execute_result"
    }
   ],
   "source": [
    "LDA.fit(dtm)"
   ]
  },
  {
   "cell_type": "code",
   "execution_count": 120,
   "id": "69e8354c",
   "metadata": {},
   "outputs": [
    {
     "data": {
      "text/plain": [
       "589"
      ]
     },
     "execution_count": 120,
     "metadata": {},
     "output_type": "execute_result"
    }
   ],
   "source": [
    "len(cv.get_feature_names())"
   ]
  },
  {
   "cell_type": "code",
   "execution_count": 121,
   "id": "ab6579e0",
   "metadata": {},
   "outputs": [],
   "source": [
    "lda_summary = pd.DataFrame()\n",
    "n_important_words = 8\n",
    "for i in range(n_components): \n",
    "    \n",
    "    index = LDA.components_[i].argsort()[-n_important_words:]\n",
    "    importance = np.sort(LDA.components_[i])[-n_important_words:]\n",
    "\n",
    "    tmp_df = pd.DataFrame({\n",
    "        'importance': importance,\n",
    "        'topic': [i for j in range(n_important_words)],\n",
    "        'feature': [cv.get_feature_names()[j] for j in index]\n",
    "    })\n",
    "    \n",
    "    lda_summary = pd.concat([lda_summary, tmp_df], ignore_index=True)"
   ]
  },
  {
   "cell_type": "code",
   "execution_count": 122,
   "id": "798da167",
   "metadata": {},
   "outputs": [
    {
     "data": {
      "application/vnd.plotly.v1+json": {
       "config": {
        "plotlyServerURL": "https://plot.ly"
       },
       "data": [
        {
         "alignmentgroup": "True",
         "hovertemplate": "topic=%{marker.color}<br>importance=%{x}<br>feature=%{y}<extra></extra>",
         "legendgroup": "",
         "marker": {
          "color": [
           0,
           0,
           0,
           0,
           0,
           0,
           0,
           0
          ],
          "coloraxis": "coloraxis",
          "pattern": {
           "shape": ""
          }
         },
         "name": "",
         "offsetgroup": "",
         "orientation": "h",
         "showlegend": false,
         "textposition": "auto",
         "type": "bar",
         "x": [
          11.038461538451086,
          12.038461538451333,
          20.03846153846028,
          28.038461538457447,
          36.038461538457405,
          41.98621710349695,
          60.03846153845538,
          91.82678829784699
         ],
         "xaxis": "x7",
         "y": [
          "glitter",
          "bandeau",
          "cargo",
          "kangaroo",
          "criss",
          "flap",
          "cross",
          "pocket"
         ],
         "yaxis": "y7"
        },
        {
         "alignmentgroup": "True",
         "hovertemplate": "topic=%{marker.color}<br>importance=%{x}<br>feature=%{y}<extra></extra>",
         "legendgroup": "",
         "marker": {
          "color": [
           1,
           1,
           1,
           1,
           1,
           1,
           1,
           1
          ],
          "coloraxis": "coloraxis",
          "pattern": {
           "shape": ""
          }
         },
         "name": "",
         "offsetgroup": "",
         "orientation": "h",
         "showlegend": false,
         "textposition": "auto",
         "type": "bar",
         "x": [
          29.609161572013445,
          31.00432208551115,
          33.03846153786183,
          36.38923722598253,
          46.25915149191485,
          48.55524738775857,
          52.87509983253578,
          54.24570213085062
         ],
         "xaxis": "x8",
         "y": [
          "set",
          "teddy",
          "dot",
          "bow",
          "lace",
          "costume",
          "colorblock",
          "bodysuit"
         ],
         "yaxis": "y8"
        },
        {
         "alignmentgroup": "True",
         "hovertemplate": "topic=%{marker.color}<br>importance=%{x}<br>feature=%{y}<extra></extra>",
         "legendgroup": "",
         "marker": {
          "color": [
           2,
           2,
           2,
           2,
           2,
           2,
           2,
           2
          ],
          "coloraxis": "coloraxis",
          "pattern": {
           "shape": ""
          }
         },
         "name": "",
         "offsetgroup": "",
         "orientation": "h",
         "showlegend": false,
         "textposition": "auto",
         "type": "bar",
         "x": [
          32.00646019912345,
          33.642839954880536,
          36.198563037199925,
          38.619451068239464,
          43.77012603935407,
          85.21349244232006,
          101.72205221060345,
          206.4296575475906
         ],
         "xaxis": "x9",
         "y": [
          "print",
          "floral",
          "asymmetrical",
          "wrap",
          "crop",
          "ruched",
          "hem",
          "skirt"
         ],
         "yaxis": "y9"
        },
        {
         "alignmentgroup": "True",
         "hovertemplate": "topic=%{marker.color}<br>importance=%{x}<br>feature=%{y}<extra></extra>",
         "legendgroup": "",
         "marker": {
          "color": [
           3,
           3,
           3,
           3,
           3,
           3,
           3,
           3
          ],
          "coloraxis": "coloraxis",
          "pattern": {
           "shape": ""
          }
         },
         "name": "",
         "offsetgroup": "",
         "orientation": "h",
         "showlegend": false,
         "textposition": "auto",
         "type": "bar",
         "x": [
          14.13343330312358,
          23.293545155134975,
          27.689494440009454,
          32.485274298939544,
          52.038461538458606,
          101.21634203578705,
          189.51234057318453,
          204.3880228917573
         ],
         "xaxis": "x4",
         "y": [
          "maternity",
          "ripped",
          "pants",
          "waisted",
          "skinny",
          "jeans",
          "high",
          "waist"
         ],
         "yaxis": "y4"
        },
        {
         "alignmentgroup": "True",
         "hovertemplate": "topic=%{marker.color}<br>importance=%{x}<br>feature=%{y}<extra></extra>",
         "legendgroup": "",
         "marker": {
          "color": [
           4,
           4,
           4,
           4,
           4,
           4,
           4,
           4
          ],
          "coloraxis": "coloraxis",
          "pattern": {
           "shape": ""
          }
         },
         "name": "",
         "offsetgroup": "",
         "orientation": "h",
         "showlegend": false,
         "textposition": "auto",
         "type": "bar",
         "x": [
          21.906280498190636,
          26.038461538458392,
          26.03846153845897,
          27.088786630184547,
          29.038461538459984,
          29.567838629032703,
          30.642516089990394,
          36.7891349548406
         ],
         "xaxis": "x5",
         "y": [
          "belted",
          "double",
          "overcoat",
          "coat",
          "breasted",
          "zipper",
          "cover",
          "plaid"
         ],
         "yaxis": "y5"
        },
        {
         "alignmentgroup": "True",
         "hovertemplate": "topic=%{marker.color}<br>importance=%{x}<br>feature=%{y}<extra></extra>",
         "legendgroup": "",
         "marker": {
          "color": [
           5,
           5,
           5,
           5,
           5,
           5,
           5,
           5
          ],
          "coloraxis": "coloraxis",
          "pattern": {
           "shape": ""
          }
         },
         "name": "",
         "offsetgroup": "",
         "orientation": "h",
         "showlegend": false,
         "textposition": "auto",
         "type": "bar",
         "x": [
          18.038461538464134,
          21.038461538456314,
          23.59859667946279,
          30.119551198939178,
          31.565644047853787,
          50.89050078108639,
          68.0384615384567,
          175.15109694335126
         ],
         "xaxis": "x6",
         "y": [
          "2pcs",
          "roll",
          "blouse",
          "denim",
          "hem",
          "solid",
          "biker",
          "shorts"
         ],
         "yaxis": "y6"
        },
        {
         "alignmentgroup": "True",
         "hovertemplate": "topic=%{marker.color}<br>importance=%{x}<br>feature=%{y}<extra></extra>",
         "legendgroup": "",
         "marker": {
          "color": [
           6,
           6,
           6,
           6,
           6,
           6,
           6,
           6
          ],
          "coloraxis": "coloraxis",
          "pattern": {
           "shape": ""
          }
         },
         "name": "",
         "offsetgroup": "",
         "orientation": "h",
         "showlegend": false,
         "textposition": "auto",
         "type": "bar",
         "x": [
          67.43917597625311,
          70.31287938477897,
          86.2001351563304,
          89.03844779836568,
          93.76178211107937,
          104.76186893534226,
          110.42118340333953,
          116.29678343374347
         ],
         "xaxis": "x",
         "y": [
          "tie",
          "cut",
          "sxy",
          "knit",
          "halter",
          "bodycon",
          "backless",
          "dress"
         ],
         "yaxis": "y"
        },
        {
         "alignmentgroup": "True",
         "hovertemplate": "topic=%{marker.color}<br>importance=%{x}<br>feature=%{y}<extra></extra>",
         "legendgroup": "",
         "marker": {
          "color": [
           7,
           7,
           7,
           7,
           7,
           7,
           7,
           7
          ],
          "coloraxis": "coloraxis",
          "pattern": {
           "shape": ""
          }
         },
         "name": "",
         "offsetgroup": "",
         "orientation": "h",
         "showlegend": false,
         "textposition": "auto",
         "type": "bar",
         "x": [
          34.038461538458094,
          38.223405441335856,
          45.46511645365124,
          47.03846153845698,
          53.038461538454605,
          85.19870676141885,
          144.03846153845822,
          157.03846153845865
         ],
         "xaxis": "x2",
         "y": [
          "triangle",
          "tie",
          "halter",
          "piece",
          "tropical",
          "print",
          "bikini",
          "swimsuit"
         ],
         "yaxis": "y2"
        },
        {
         "alignmentgroup": "True",
         "hovertemplate": "topic=%{marker.color}<br>importance=%{x}<br>feature=%{y}<extra></extra>",
         "legendgroup": "",
         "marker": {
          "color": [
           8,
           8,
           8,
           8,
           8,
           8,
           8,
           8
          ],
          "coloraxis": "coloraxis",
          "pattern": {
           "shape": ""
          }
         },
         "name": "",
         "offsetgroup": "",
         "orientation": "h",
         "showlegend": false,
         "textposition": "auto",
         "type": "bar",
         "x": [
          55.18233144201397,
          55.783377921784826,
          56.03846153845887,
          56.43839122869604,
          57.44081633876434,
          67.57124243593955,
          91.88415284207365,
          112.07564756401027
         ],
         "xaxis": "x3",
         "y": [
          "shorts",
          "ripped",
          "raw",
          "hem",
          "wide",
          "denim",
          "pants",
          "leg"
         ],
         "yaxis": "y3"
        }
       ],
       "layout": {
        "annotations": [
         {
          "font": {},
          "showarrow": false,
          "text": "topic=6",
          "x": 0.13333333333333333,
          "xanchor": "center",
          "xref": "paper",
          "y": 0.2866666666666666,
          "yanchor": "bottom",
          "yref": "paper"
         },
         {
          "font": {},
          "showarrow": false,
          "text": "topic=7",
          "x": 0.5,
          "xanchor": "center",
          "xref": "paper",
          "y": 0.2866666666666666,
          "yanchor": "bottom",
          "yref": "paper"
         },
         {
          "font": {},
          "showarrow": false,
          "text": "topic=8",
          "x": 0.8666666666666667,
          "xanchor": "center",
          "xref": "paper",
          "y": 0.2866666666666666,
          "yanchor": "bottom",
          "yref": "paper"
         },
         {
          "font": {},
          "showarrow": false,
          "text": "topic=3",
          "x": 0.13333333333333333,
          "xanchor": "center",
          "xref": "paper",
          "y": 0.6433333333333333,
          "yanchor": "bottom",
          "yref": "paper"
         },
         {
          "font": {},
          "showarrow": false,
          "text": "topic=4",
          "x": 0.5,
          "xanchor": "center",
          "xref": "paper",
          "y": 0.6433333333333333,
          "yanchor": "bottom",
          "yref": "paper"
         },
         {
          "font": {},
          "showarrow": false,
          "text": "topic=5",
          "x": 0.8666666666666667,
          "xanchor": "center",
          "xref": "paper",
          "y": 0.6433333333333333,
          "yanchor": "bottom",
          "yref": "paper"
         },
         {
          "font": {},
          "showarrow": false,
          "text": "topic=0",
          "x": 0.13333333333333333,
          "xanchor": "center",
          "xref": "paper",
          "y": 0.9999999999999999,
          "yanchor": "bottom",
          "yref": "paper"
         },
         {
          "font": {},
          "showarrow": false,
          "text": "topic=1",
          "x": 0.5,
          "xanchor": "center",
          "xref": "paper",
          "y": 0.9999999999999999,
          "yanchor": "bottom",
          "yref": "paper"
         },
         {
          "font": {},
          "showarrow": false,
          "text": "topic=2",
          "x": 0.8666666666666667,
          "xanchor": "center",
          "xref": "paper",
          "y": 0.9999999999999999,
          "yanchor": "bottom",
          "yref": "paper"
         }
        ],
        "barmode": "relative",
        "coloraxis": {
         "colorbar": {
          "title": {
           "text": "topic"
          }
         },
         "colorscale": [
          [
           0,
           "#0d0887"
          ],
          [
           0.1111111111111111,
           "#46039f"
          ],
          [
           0.2222222222222222,
           "#7201a8"
          ],
          [
           0.3333333333333333,
           "#9c179e"
          ],
          [
           0.4444444444444444,
           "#bd3786"
          ],
          [
           0.5555555555555556,
           "#d8576b"
          ],
          [
           0.6666666666666666,
           "#ed7953"
          ],
          [
           0.7777777777777778,
           "#fb9f3a"
          ],
          [
           0.8888888888888888,
           "#fdca26"
          ],
          [
           1,
           "#f0f921"
          ]
         ],
         "showscale": false
        },
        "height": 700,
        "legend": {
         "tracegroupgap": 0
        },
        "margin": {
         "t": 60
        },
        "template": {
         "data": {
          "bar": [
           {
            "error_x": {
             "color": "#2a3f5f"
            },
            "error_y": {
             "color": "#2a3f5f"
            },
            "marker": {
             "line": {
              "color": "#E5ECF6",
              "width": 0.5
             },
             "pattern": {
              "fillmode": "overlay",
              "size": 10,
              "solidity": 0.2
             }
            },
            "type": "bar"
           }
          ],
          "barpolar": [
           {
            "marker": {
             "line": {
              "color": "#E5ECF6",
              "width": 0.5
             },
             "pattern": {
              "fillmode": "overlay",
              "size": 10,
              "solidity": 0.2
             }
            },
            "type": "barpolar"
           }
          ],
          "carpet": [
           {
            "aaxis": {
             "endlinecolor": "#2a3f5f",
             "gridcolor": "white",
             "linecolor": "white",
             "minorgridcolor": "white",
             "startlinecolor": "#2a3f5f"
            },
            "baxis": {
             "endlinecolor": "#2a3f5f",
             "gridcolor": "white",
             "linecolor": "white",
             "minorgridcolor": "white",
             "startlinecolor": "#2a3f5f"
            },
            "type": "carpet"
           }
          ],
          "choropleth": [
           {
            "colorbar": {
             "outlinewidth": 0,
             "ticks": ""
            },
            "type": "choropleth"
           }
          ],
          "contour": [
           {
            "colorbar": {
             "outlinewidth": 0,
             "ticks": ""
            },
            "colorscale": [
             [
              0,
              "#0d0887"
             ],
             [
              0.1111111111111111,
              "#46039f"
             ],
             [
              0.2222222222222222,
              "#7201a8"
             ],
             [
              0.3333333333333333,
              "#9c179e"
             ],
             [
              0.4444444444444444,
              "#bd3786"
             ],
             [
              0.5555555555555556,
              "#d8576b"
             ],
             [
              0.6666666666666666,
              "#ed7953"
             ],
             [
              0.7777777777777778,
              "#fb9f3a"
             ],
             [
              0.8888888888888888,
              "#fdca26"
             ],
             [
              1,
              "#f0f921"
             ]
            ],
            "type": "contour"
           }
          ],
          "contourcarpet": [
           {
            "colorbar": {
             "outlinewidth": 0,
             "ticks": ""
            },
            "type": "contourcarpet"
           }
          ],
          "heatmap": [
           {
            "colorbar": {
             "outlinewidth": 0,
             "ticks": ""
            },
            "colorscale": [
             [
              0,
              "#0d0887"
             ],
             [
              0.1111111111111111,
              "#46039f"
             ],
             [
              0.2222222222222222,
              "#7201a8"
             ],
             [
              0.3333333333333333,
              "#9c179e"
             ],
             [
              0.4444444444444444,
              "#bd3786"
             ],
             [
              0.5555555555555556,
              "#d8576b"
             ],
             [
              0.6666666666666666,
              "#ed7953"
             ],
             [
              0.7777777777777778,
              "#fb9f3a"
             ],
             [
              0.8888888888888888,
              "#fdca26"
             ],
             [
              1,
              "#f0f921"
             ]
            ],
            "type": "heatmap"
           }
          ],
          "heatmapgl": [
           {
            "colorbar": {
             "outlinewidth": 0,
             "ticks": ""
            },
            "colorscale": [
             [
              0,
              "#0d0887"
             ],
             [
              0.1111111111111111,
              "#46039f"
             ],
             [
              0.2222222222222222,
              "#7201a8"
             ],
             [
              0.3333333333333333,
              "#9c179e"
             ],
             [
              0.4444444444444444,
              "#bd3786"
             ],
             [
              0.5555555555555556,
              "#d8576b"
             ],
             [
              0.6666666666666666,
              "#ed7953"
             ],
             [
              0.7777777777777778,
              "#fb9f3a"
             ],
             [
              0.8888888888888888,
              "#fdca26"
             ],
             [
              1,
              "#f0f921"
             ]
            ],
            "type": "heatmapgl"
           }
          ],
          "histogram": [
           {
            "marker": {
             "pattern": {
              "fillmode": "overlay",
              "size": 10,
              "solidity": 0.2
             }
            },
            "type": "histogram"
           }
          ],
          "histogram2d": [
           {
            "colorbar": {
             "outlinewidth": 0,
             "ticks": ""
            },
            "colorscale": [
             [
              0,
              "#0d0887"
             ],
             [
              0.1111111111111111,
              "#46039f"
             ],
             [
              0.2222222222222222,
              "#7201a8"
             ],
             [
              0.3333333333333333,
              "#9c179e"
             ],
             [
              0.4444444444444444,
              "#bd3786"
             ],
             [
              0.5555555555555556,
              "#d8576b"
             ],
             [
              0.6666666666666666,
              "#ed7953"
             ],
             [
              0.7777777777777778,
              "#fb9f3a"
             ],
             [
              0.8888888888888888,
              "#fdca26"
             ],
             [
              1,
              "#f0f921"
             ]
            ],
            "type": "histogram2d"
           }
          ],
          "histogram2dcontour": [
           {
            "colorbar": {
             "outlinewidth": 0,
             "ticks": ""
            },
            "colorscale": [
             [
              0,
              "#0d0887"
             ],
             [
              0.1111111111111111,
              "#46039f"
             ],
             [
              0.2222222222222222,
              "#7201a8"
             ],
             [
              0.3333333333333333,
              "#9c179e"
             ],
             [
              0.4444444444444444,
              "#bd3786"
             ],
             [
              0.5555555555555556,
              "#d8576b"
             ],
             [
              0.6666666666666666,
              "#ed7953"
             ],
             [
              0.7777777777777778,
              "#fb9f3a"
             ],
             [
              0.8888888888888888,
              "#fdca26"
             ],
             [
              1,
              "#f0f921"
             ]
            ],
            "type": "histogram2dcontour"
           }
          ],
          "mesh3d": [
           {
            "colorbar": {
             "outlinewidth": 0,
             "ticks": ""
            },
            "type": "mesh3d"
           }
          ],
          "parcoords": [
           {
            "line": {
             "colorbar": {
              "outlinewidth": 0,
              "ticks": ""
             }
            },
            "type": "parcoords"
           }
          ],
          "pie": [
           {
            "automargin": true,
            "type": "pie"
           }
          ],
          "scatter": [
           {
            "fillpattern": {
             "fillmode": "overlay",
             "size": 10,
             "solidity": 0.2
            },
            "type": "scatter"
           }
          ],
          "scatter3d": [
           {
            "line": {
             "colorbar": {
              "outlinewidth": 0,
              "ticks": ""
             }
            },
            "marker": {
             "colorbar": {
              "outlinewidth": 0,
              "ticks": ""
             }
            },
            "type": "scatter3d"
           }
          ],
          "scattercarpet": [
           {
            "marker": {
             "colorbar": {
              "outlinewidth": 0,
              "ticks": ""
             }
            },
            "type": "scattercarpet"
           }
          ],
          "scattergeo": [
           {
            "marker": {
             "colorbar": {
              "outlinewidth": 0,
              "ticks": ""
             }
            },
            "type": "scattergeo"
           }
          ],
          "scattergl": [
           {
            "marker": {
             "colorbar": {
              "outlinewidth": 0,
              "ticks": ""
             }
            },
            "type": "scattergl"
           }
          ],
          "scattermapbox": [
           {
            "marker": {
             "colorbar": {
              "outlinewidth": 0,
              "ticks": ""
             }
            },
            "type": "scattermapbox"
           }
          ],
          "scatterpolar": [
           {
            "marker": {
             "colorbar": {
              "outlinewidth": 0,
              "ticks": ""
             }
            },
            "type": "scatterpolar"
           }
          ],
          "scatterpolargl": [
           {
            "marker": {
             "colorbar": {
              "outlinewidth": 0,
              "ticks": ""
             }
            },
            "type": "scatterpolargl"
           }
          ],
          "scatterternary": [
           {
            "marker": {
             "colorbar": {
              "outlinewidth": 0,
              "ticks": ""
             }
            },
            "type": "scatterternary"
           }
          ],
          "surface": [
           {
            "colorbar": {
             "outlinewidth": 0,
             "ticks": ""
            },
            "colorscale": [
             [
              0,
              "#0d0887"
             ],
             [
              0.1111111111111111,
              "#46039f"
             ],
             [
              0.2222222222222222,
              "#7201a8"
             ],
             [
              0.3333333333333333,
              "#9c179e"
             ],
             [
              0.4444444444444444,
              "#bd3786"
             ],
             [
              0.5555555555555556,
              "#d8576b"
             ],
             [
              0.6666666666666666,
              "#ed7953"
             ],
             [
              0.7777777777777778,
              "#fb9f3a"
             ],
             [
              0.8888888888888888,
              "#fdca26"
             ],
             [
              1,
              "#f0f921"
             ]
            ],
            "type": "surface"
           }
          ],
          "table": [
           {
            "cells": {
             "fill": {
              "color": "#EBF0F8"
             },
             "line": {
              "color": "white"
             }
            },
            "header": {
             "fill": {
              "color": "#C8D4E3"
             },
             "line": {
              "color": "white"
             }
            },
            "type": "table"
           }
          ]
         },
         "layout": {
          "annotationdefaults": {
           "arrowcolor": "#2a3f5f",
           "arrowhead": 0,
           "arrowwidth": 1
          },
          "autotypenumbers": "strict",
          "coloraxis": {
           "colorbar": {
            "outlinewidth": 0,
            "ticks": ""
           }
          },
          "colorscale": {
           "diverging": [
            [
             0,
             "#8e0152"
            ],
            [
             0.1,
             "#c51b7d"
            ],
            [
             0.2,
             "#de77ae"
            ],
            [
             0.3,
             "#f1b6da"
            ],
            [
             0.4,
             "#fde0ef"
            ],
            [
             0.5,
             "#f7f7f7"
            ],
            [
             0.6,
             "#e6f5d0"
            ],
            [
             0.7,
             "#b8e186"
            ],
            [
             0.8,
             "#7fbc41"
            ],
            [
             0.9,
             "#4d9221"
            ],
            [
             1,
             "#276419"
            ]
           ],
           "sequential": [
            [
             0,
             "#0d0887"
            ],
            [
             0.1111111111111111,
             "#46039f"
            ],
            [
             0.2222222222222222,
             "#7201a8"
            ],
            [
             0.3333333333333333,
             "#9c179e"
            ],
            [
             0.4444444444444444,
             "#bd3786"
            ],
            [
             0.5555555555555556,
             "#d8576b"
            ],
            [
             0.6666666666666666,
             "#ed7953"
            ],
            [
             0.7777777777777778,
             "#fb9f3a"
            ],
            [
             0.8888888888888888,
             "#fdca26"
            ],
            [
             1,
             "#f0f921"
            ]
           ],
           "sequentialminus": [
            [
             0,
             "#0d0887"
            ],
            [
             0.1111111111111111,
             "#46039f"
            ],
            [
             0.2222222222222222,
             "#7201a8"
            ],
            [
             0.3333333333333333,
             "#9c179e"
            ],
            [
             0.4444444444444444,
             "#bd3786"
            ],
            [
             0.5555555555555556,
             "#d8576b"
            ],
            [
             0.6666666666666666,
             "#ed7953"
            ],
            [
             0.7777777777777778,
             "#fb9f3a"
            ],
            [
             0.8888888888888888,
             "#fdca26"
            ],
            [
             1,
             "#f0f921"
            ]
           ]
          },
          "colorway": [
           "#636efa",
           "#EF553B",
           "#00cc96",
           "#ab63fa",
           "#FFA15A",
           "#19d3f3",
           "#FF6692",
           "#B6E880",
           "#FF97FF",
           "#FECB52"
          ],
          "font": {
           "color": "#2a3f5f"
          },
          "geo": {
           "bgcolor": "white",
           "lakecolor": "white",
           "landcolor": "#E5ECF6",
           "showlakes": true,
           "showland": true,
           "subunitcolor": "white"
          },
          "hoverlabel": {
           "align": "left"
          },
          "hovermode": "closest",
          "mapbox": {
           "style": "light"
          },
          "paper_bgcolor": "white",
          "plot_bgcolor": "#E5ECF6",
          "polar": {
           "angularaxis": {
            "gridcolor": "white",
            "linecolor": "white",
            "ticks": ""
           },
           "bgcolor": "#E5ECF6",
           "radialaxis": {
            "gridcolor": "white",
            "linecolor": "white",
            "ticks": ""
           }
          },
          "scene": {
           "xaxis": {
            "backgroundcolor": "#E5ECF6",
            "gridcolor": "white",
            "gridwidth": 2,
            "linecolor": "white",
            "showbackground": true,
            "ticks": "",
            "zerolinecolor": "white"
           },
           "yaxis": {
            "backgroundcolor": "#E5ECF6",
            "gridcolor": "white",
            "gridwidth": 2,
            "linecolor": "white",
            "showbackground": true,
            "ticks": "",
            "zerolinecolor": "white"
           },
           "zaxis": {
            "backgroundcolor": "#E5ECF6",
            "gridcolor": "white",
            "gridwidth": 2,
            "linecolor": "white",
            "showbackground": true,
            "ticks": "",
            "zerolinecolor": "white"
           }
          },
          "shapedefaults": {
           "line": {
            "color": "#2a3f5f"
           }
          },
          "ternary": {
           "aaxis": {
            "gridcolor": "white",
            "linecolor": "white",
            "ticks": ""
           },
           "baxis": {
            "gridcolor": "white",
            "linecolor": "white",
            "ticks": ""
           },
           "bgcolor": "#E5ECF6",
           "caxis": {
            "gridcolor": "white",
            "linecolor": "white",
            "ticks": ""
           }
          },
          "title": {
           "x": 0.05
          },
          "xaxis": {
           "automargin": true,
           "gridcolor": "white",
           "linecolor": "white",
           "ticks": "",
           "title": {
            "standoff": 15
           },
           "zerolinecolor": "white",
           "zerolinewidth": 2
          },
          "yaxis": {
           "automargin": true,
           "gridcolor": "white",
           "linecolor": "white",
           "ticks": "",
           "title": {
            "standoff": 15
           },
           "zerolinecolor": "white",
           "zerolinewidth": 2
          }
         }
        },
        "xaxis": {
         "anchor": "y",
         "domain": [
          0,
          0.26666666666666666
         ],
         "showticklabels": true,
         "title": {
          "text": ""
         }
        },
        "xaxis2": {
         "anchor": "y2",
         "domain": [
          0.3666666666666667,
          0.6333333333333333
         ],
         "showticklabels": true,
         "title": {
          "text": ""
         }
        },
        "xaxis3": {
         "anchor": "y3",
         "domain": [
          0.7333333333333334,
          1
         ],
         "showticklabels": true,
         "title": {
          "text": ""
         }
        },
        "xaxis4": {
         "anchor": "y4",
         "domain": [
          0,
          0.26666666666666666
         ],
         "showticklabels": true,
         "title": {
          "text": ""
         }
        },
        "xaxis5": {
         "anchor": "y5",
         "domain": [
          0.3666666666666667,
          0.6333333333333333
         ],
         "showticklabels": true,
         "title": {
          "text": ""
         }
        },
        "xaxis6": {
         "anchor": "y6",
         "domain": [
          0.7333333333333334,
          1
         ],
         "showticklabels": true,
         "title": {
          "text": ""
         }
        },
        "xaxis7": {
         "anchor": "y7",
         "domain": [
          0,
          0.26666666666666666
         ],
         "showticklabels": true,
         "title": {
          "text": ""
         }
        },
        "xaxis8": {
         "anchor": "y8",
         "domain": [
          0.3666666666666667,
          0.6333333333333333
         ],
         "showticklabels": true,
         "title": {
          "text": ""
         }
        },
        "xaxis9": {
         "anchor": "y9",
         "domain": [
          0.7333333333333334,
          1
         ],
         "showticklabels": true,
         "title": {
          "text": ""
         }
        },
        "yaxis": {
         "anchor": "x",
         "domain": [
          0,
          0.2866666666666666
         ],
         "showticklabels": true,
         "title": {
          "text": ""
         }
        },
        "yaxis2": {
         "anchor": "x2",
         "domain": [
          0,
          0.2866666666666666
         ],
         "showticklabels": true,
         "title": {
          "text": ""
         }
        },
        "yaxis3": {
         "anchor": "x3",
         "domain": [
          0,
          0.2866666666666666
         ],
         "showticklabels": true,
         "title": {
          "text": ""
         }
        },
        "yaxis4": {
         "anchor": "x4",
         "domain": [
          0.35666666666666663,
          0.6433333333333333
         ],
         "showticklabels": true,
         "title": {
          "text": ""
         }
        },
        "yaxis5": {
         "anchor": "x5",
         "domain": [
          0.35666666666666663,
          0.6433333333333333
         ],
         "showticklabels": true,
         "title": {
          "text": ""
         }
        },
        "yaxis6": {
         "anchor": "x6",
         "domain": [
          0.35666666666666663,
          0.6433333333333333
         ],
         "showticklabels": true,
         "title": {
          "text": ""
         }
        },
        "yaxis7": {
         "anchor": "x7",
         "domain": [
          0.7133333333333333,
          0.9999999999999999
         ],
         "showticklabels": true,
         "title": {
          "text": ""
         }
        },
        "yaxis8": {
         "anchor": "x8",
         "domain": [
          0.7133333333333333,
          0.9999999999999999
         ],
         "showticklabels": true,
         "title": {
          "text": ""
         }
        },
        "yaxis9": {
         "anchor": "x9",
         "domain": [
          0.7133333333333333,
          0.9999999999999999
         ],
         "showticklabels": true,
         "title": {
          "text": ""
         }
        }
       }
      },
      "text/html": [
       "<div>                            <div id=\"590f73b9-97fa-4b63-a6f6-101ac18e8fc9\" class=\"plotly-graph-div\" style=\"height:700px; width:100%;\"></div>            <script type=\"text/javascript\">                require([\"plotly\"], function(Plotly) {                    window.PLOTLYENV=window.PLOTLYENV || {};                                    if (document.getElementById(\"590f73b9-97fa-4b63-a6f6-101ac18e8fc9\")) {                    Plotly.newPlot(                        \"590f73b9-97fa-4b63-a6f6-101ac18e8fc9\",                        [{\"alignmentgroup\":\"True\",\"hovertemplate\":\"topic=%{marker.color}<br>importance=%{x}<br>feature=%{y}<extra></extra>\",\"legendgroup\":\"\",\"marker\":{\"color\":[0,0,0,0,0,0,0,0],\"coloraxis\":\"coloraxis\",\"pattern\":{\"shape\":\"\"}},\"name\":\"\",\"offsetgroup\":\"\",\"orientation\":\"h\",\"showlegend\":false,\"textposition\":\"auto\",\"x\":[11.038461538451086,12.038461538451333,20.03846153846028,28.038461538457447,36.038461538457405,41.98621710349695,60.03846153845538,91.82678829784699],\"xaxis\":\"x7\",\"y\":[\"glitter\",\"bandeau\",\"cargo\",\"kangaroo\",\"criss\",\"flap\",\"cross\",\"pocket\"],\"yaxis\":\"y7\",\"type\":\"bar\"},{\"alignmentgroup\":\"True\",\"hovertemplate\":\"topic=%{marker.color}<br>importance=%{x}<br>feature=%{y}<extra></extra>\",\"legendgroup\":\"\",\"marker\":{\"color\":[1,1,1,1,1,1,1,1],\"coloraxis\":\"coloraxis\",\"pattern\":{\"shape\":\"\"}},\"name\":\"\",\"offsetgroup\":\"\",\"orientation\":\"h\",\"showlegend\":false,\"textposition\":\"auto\",\"x\":[29.609161572013445,31.00432208551115,33.03846153786183,36.38923722598253,46.25915149191485,48.55524738775857,52.87509983253578,54.24570213085062],\"xaxis\":\"x8\",\"y\":[\"set\",\"teddy\",\"dot\",\"bow\",\"lace\",\"costume\",\"colorblock\",\"bodysuit\"],\"yaxis\":\"y8\",\"type\":\"bar\"},{\"alignmentgroup\":\"True\",\"hovertemplate\":\"topic=%{marker.color}<br>importance=%{x}<br>feature=%{y}<extra></extra>\",\"legendgroup\":\"\",\"marker\":{\"color\":[2,2,2,2,2,2,2,2],\"coloraxis\":\"coloraxis\",\"pattern\":{\"shape\":\"\"}},\"name\":\"\",\"offsetgroup\":\"\",\"orientation\":\"h\",\"showlegend\":false,\"textposition\":\"auto\",\"x\":[32.00646019912345,33.642839954880536,36.198563037199925,38.619451068239464,43.77012603935407,85.21349244232006,101.72205221060345,206.4296575475906],\"xaxis\":\"x9\",\"y\":[\"print\",\"floral\",\"asymmetrical\",\"wrap\",\"crop\",\"ruched\",\"hem\",\"skirt\"],\"yaxis\":\"y9\",\"type\":\"bar\"},{\"alignmentgroup\":\"True\",\"hovertemplate\":\"topic=%{marker.color}<br>importance=%{x}<br>feature=%{y}<extra></extra>\",\"legendgroup\":\"\",\"marker\":{\"color\":[3,3,3,3,3,3,3,3],\"coloraxis\":\"coloraxis\",\"pattern\":{\"shape\":\"\"}},\"name\":\"\",\"offsetgroup\":\"\",\"orientation\":\"h\",\"showlegend\":false,\"textposition\":\"auto\",\"x\":[14.13343330312358,23.293545155134975,27.689494440009454,32.485274298939544,52.038461538458606,101.21634203578705,189.51234057318453,204.3880228917573],\"xaxis\":\"x4\",\"y\":[\"maternity\",\"ripped\",\"pants\",\"waisted\",\"skinny\",\"jeans\",\"high\",\"waist\"],\"yaxis\":\"y4\",\"type\":\"bar\"},{\"alignmentgroup\":\"True\",\"hovertemplate\":\"topic=%{marker.color}<br>importance=%{x}<br>feature=%{y}<extra></extra>\",\"legendgroup\":\"\",\"marker\":{\"color\":[4,4,4,4,4,4,4,4],\"coloraxis\":\"coloraxis\",\"pattern\":{\"shape\":\"\"}},\"name\":\"\",\"offsetgroup\":\"\",\"orientation\":\"h\",\"showlegend\":false,\"textposition\":\"auto\",\"x\":[21.906280498190636,26.038461538458392,26.03846153845897,27.088786630184547,29.038461538459984,29.567838629032703,30.642516089990394,36.7891349548406],\"xaxis\":\"x5\",\"y\":[\"belted\",\"double\",\"overcoat\",\"coat\",\"breasted\",\"zipper\",\"cover\",\"plaid\"],\"yaxis\":\"y5\",\"type\":\"bar\"},{\"alignmentgroup\":\"True\",\"hovertemplate\":\"topic=%{marker.color}<br>importance=%{x}<br>feature=%{y}<extra></extra>\",\"legendgroup\":\"\",\"marker\":{\"color\":[5,5,5,5,5,5,5,5],\"coloraxis\":\"coloraxis\",\"pattern\":{\"shape\":\"\"}},\"name\":\"\",\"offsetgroup\":\"\",\"orientation\":\"h\",\"showlegend\":false,\"textposition\":\"auto\",\"x\":[18.038461538464134,21.038461538456314,23.59859667946279,30.119551198939178,31.565644047853787,50.89050078108639,68.0384615384567,175.15109694335126],\"xaxis\":\"x6\",\"y\":[\"2pcs\",\"roll\",\"blouse\",\"denim\",\"hem\",\"solid\",\"biker\",\"shorts\"],\"yaxis\":\"y6\",\"type\":\"bar\"},{\"alignmentgroup\":\"True\",\"hovertemplate\":\"topic=%{marker.color}<br>importance=%{x}<br>feature=%{y}<extra></extra>\",\"legendgroup\":\"\",\"marker\":{\"color\":[6,6,6,6,6,6,6,6],\"coloraxis\":\"coloraxis\",\"pattern\":{\"shape\":\"\"}},\"name\":\"\",\"offsetgroup\":\"\",\"orientation\":\"h\",\"showlegend\":false,\"textposition\":\"auto\",\"x\":[67.43917597625311,70.31287938477897,86.2001351563304,89.03844779836568,93.76178211107937,104.76186893534226,110.42118340333953,116.29678343374347],\"xaxis\":\"x\",\"y\":[\"tie\",\"cut\",\"sxy\",\"knit\",\"halter\",\"bodycon\",\"backless\",\"dress\"],\"yaxis\":\"y\",\"type\":\"bar\"},{\"alignmentgroup\":\"True\",\"hovertemplate\":\"topic=%{marker.color}<br>importance=%{x}<br>feature=%{y}<extra></extra>\",\"legendgroup\":\"\",\"marker\":{\"color\":[7,7,7,7,7,7,7,7],\"coloraxis\":\"coloraxis\",\"pattern\":{\"shape\":\"\"}},\"name\":\"\",\"offsetgroup\":\"\",\"orientation\":\"h\",\"showlegend\":false,\"textposition\":\"auto\",\"x\":[34.038461538458094,38.223405441335856,45.46511645365124,47.03846153845698,53.038461538454605,85.19870676141885,144.03846153845822,157.03846153845865],\"xaxis\":\"x2\",\"y\":[\"triangle\",\"tie\",\"halter\",\"piece\",\"tropical\",\"print\",\"bikini\",\"swimsuit\"],\"yaxis\":\"y2\",\"type\":\"bar\"},{\"alignmentgroup\":\"True\",\"hovertemplate\":\"topic=%{marker.color}<br>importance=%{x}<br>feature=%{y}<extra></extra>\",\"legendgroup\":\"\",\"marker\":{\"color\":[8,8,8,8,8,8,8,8],\"coloraxis\":\"coloraxis\",\"pattern\":{\"shape\":\"\"}},\"name\":\"\",\"offsetgroup\":\"\",\"orientation\":\"h\",\"showlegend\":false,\"textposition\":\"auto\",\"x\":[55.18233144201397,55.783377921784826,56.03846153845887,56.43839122869604,57.44081633876434,67.57124243593955,91.88415284207365,112.07564756401027],\"xaxis\":\"x3\",\"y\":[\"shorts\",\"ripped\",\"raw\",\"hem\",\"wide\",\"denim\",\"pants\",\"leg\"],\"yaxis\":\"y3\",\"type\":\"bar\"}],                        {\"template\":{\"data\":{\"histogram2dcontour\":[{\"type\":\"histogram2dcontour\",\"colorbar\":{\"outlinewidth\":0,\"ticks\":\"\"},\"colorscale\":[[0.0,\"#0d0887\"],[0.1111111111111111,\"#46039f\"],[0.2222222222222222,\"#7201a8\"],[0.3333333333333333,\"#9c179e\"],[0.4444444444444444,\"#bd3786\"],[0.5555555555555556,\"#d8576b\"],[0.6666666666666666,\"#ed7953\"],[0.7777777777777778,\"#fb9f3a\"],[0.8888888888888888,\"#fdca26\"],[1.0,\"#f0f921\"]]}],\"choropleth\":[{\"type\":\"choropleth\",\"colorbar\":{\"outlinewidth\":0,\"ticks\":\"\"}}],\"histogram2d\":[{\"type\":\"histogram2d\",\"colorbar\":{\"outlinewidth\":0,\"ticks\":\"\"},\"colorscale\":[[0.0,\"#0d0887\"],[0.1111111111111111,\"#46039f\"],[0.2222222222222222,\"#7201a8\"],[0.3333333333333333,\"#9c179e\"],[0.4444444444444444,\"#bd3786\"],[0.5555555555555556,\"#d8576b\"],[0.6666666666666666,\"#ed7953\"],[0.7777777777777778,\"#fb9f3a\"],[0.8888888888888888,\"#fdca26\"],[1.0,\"#f0f921\"]]}],\"heatmap\":[{\"type\":\"heatmap\",\"colorbar\":{\"outlinewidth\":0,\"ticks\":\"\"},\"colorscale\":[[0.0,\"#0d0887\"],[0.1111111111111111,\"#46039f\"],[0.2222222222222222,\"#7201a8\"],[0.3333333333333333,\"#9c179e\"],[0.4444444444444444,\"#bd3786\"],[0.5555555555555556,\"#d8576b\"],[0.6666666666666666,\"#ed7953\"],[0.7777777777777778,\"#fb9f3a\"],[0.8888888888888888,\"#fdca26\"],[1.0,\"#f0f921\"]]}],\"heatmapgl\":[{\"type\":\"heatmapgl\",\"colorbar\":{\"outlinewidth\":0,\"ticks\":\"\"},\"colorscale\":[[0.0,\"#0d0887\"],[0.1111111111111111,\"#46039f\"],[0.2222222222222222,\"#7201a8\"],[0.3333333333333333,\"#9c179e\"],[0.4444444444444444,\"#bd3786\"],[0.5555555555555556,\"#d8576b\"],[0.6666666666666666,\"#ed7953\"],[0.7777777777777778,\"#fb9f3a\"],[0.8888888888888888,\"#fdca26\"],[1.0,\"#f0f921\"]]}],\"contourcarpet\":[{\"type\":\"contourcarpet\",\"colorbar\":{\"outlinewidth\":0,\"ticks\":\"\"}}],\"contour\":[{\"type\":\"contour\",\"colorbar\":{\"outlinewidth\":0,\"ticks\":\"\"},\"colorscale\":[[0.0,\"#0d0887\"],[0.1111111111111111,\"#46039f\"],[0.2222222222222222,\"#7201a8\"],[0.3333333333333333,\"#9c179e\"],[0.4444444444444444,\"#bd3786\"],[0.5555555555555556,\"#d8576b\"],[0.6666666666666666,\"#ed7953\"],[0.7777777777777778,\"#fb9f3a\"],[0.8888888888888888,\"#fdca26\"],[1.0,\"#f0f921\"]]}],\"surface\":[{\"type\":\"surface\",\"colorbar\":{\"outlinewidth\":0,\"ticks\":\"\"},\"colorscale\":[[0.0,\"#0d0887\"],[0.1111111111111111,\"#46039f\"],[0.2222222222222222,\"#7201a8\"],[0.3333333333333333,\"#9c179e\"],[0.4444444444444444,\"#bd3786\"],[0.5555555555555556,\"#d8576b\"],[0.6666666666666666,\"#ed7953\"],[0.7777777777777778,\"#fb9f3a\"],[0.8888888888888888,\"#fdca26\"],[1.0,\"#f0f921\"]]}],\"mesh3d\":[{\"type\":\"mesh3d\",\"colorbar\":{\"outlinewidth\":0,\"ticks\":\"\"}}],\"scatter\":[{\"fillpattern\":{\"fillmode\":\"overlay\",\"size\":10,\"solidity\":0.2},\"type\":\"scatter\"}],\"parcoords\":[{\"type\":\"parcoords\",\"line\":{\"colorbar\":{\"outlinewidth\":0,\"ticks\":\"\"}}}],\"scatterpolargl\":[{\"type\":\"scatterpolargl\",\"marker\":{\"colorbar\":{\"outlinewidth\":0,\"ticks\":\"\"}}}],\"bar\":[{\"error_x\":{\"color\":\"#2a3f5f\"},\"error_y\":{\"color\":\"#2a3f5f\"},\"marker\":{\"line\":{\"color\":\"#E5ECF6\",\"width\":0.5},\"pattern\":{\"fillmode\":\"overlay\",\"size\":10,\"solidity\":0.2}},\"type\":\"bar\"}],\"scattergeo\":[{\"type\":\"scattergeo\",\"marker\":{\"colorbar\":{\"outlinewidth\":0,\"ticks\":\"\"}}}],\"scatterpolar\":[{\"type\":\"scatterpolar\",\"marker\":{\"colorbar\":{\"outlinewidth\":0,\"ticks\":\"\"}}}],\"histogram\":[{\"marker\":{\"pattern\":{\"fillmode\":\"overlay\",\"size\":10,\"solidity\":0.2}},\"type\":\"histogram\"}],\"scattergl\":[{\"type\":\"scattergl\",\"marker\":{\"colorbar\":{\"outlinewidth\":0,\"ticks\":\"\"}}}],\"scatter3d\":[{\"type\":\"scatter3d\",\"line\":{\"colorbar\":{\"outlinewidth\":0,\"ticks\":\"\"}},\"marker\":{\"colorbar\":{\"outlinewidth\":0,\"ticks\":\"\"}}}],\"scattermapbox\":[{\"type\":\"scattermapbox\",\"marker\":{\"colorbar\":{\"outlinewidth\":0,\"ticks\":\"\"}}}],\"scatterternary\":[{\"type\":\"scatterternary\",\"marker\":{\"colorbar\":{\"outlinewidth\":0,\"ticks\":\"\"}}}],\"scattercarpet\":[{\"type\":\"scattercarpet\",\"marker\":{\"colorbar\":{\"outlinewidth\":0,\"ticks\":\"\"}}}],\"carpet\":[{\"aaxis\":{\"endlinecolor\":\"#2a3f5f\",\"gridcolor\":\"white\",\"linecolor\":\"white\",\"minorgridcolor\":\"white\",\"startlinecolor\":\"#2a3f5f\"},\"baxis\":{\"endlinecolor\":\"#2a3f5f\",\"gridcolor\":\"white\",\"linecolor\":\"white\",\"minorgridcolor\":\"white\",\"startlinecolor\":\"#2a3f5f\"},\"type\":\"carpet\"}],\"table\":[{\"cells\":{\"fill\":{\"color\":\"#EBF0F8\"},\"line\":{\"color\":\"white\"}},\"header\":{\"fill\":{\"color\":\"#C8D4E3\"},\"line\":{\"color\":\"white\"}},\"type\":\"table\"}],\"barpolar\":[{\"marker\":{\"line\":{\"color\":\"#E5ECF6\",\"width\":0.5},\"pattern\":{\"fillmode\":\"overlay\",\"size\":10,\"solidity\":0.2}},\"type\":\"barpolar\"}],\"pie\":[{\"automargin\":true,\"type\":\"pie\"}]},\"layout\":{\"autotypenumbers\":\"strict\",\"colorway\":[\"#636efa\",\"#EF553B\",\"#00cc96\",\"#ab63fa\",\"#FFA15A\",\"#19d3f3\",\"#FF6692\",\"#B6E880\",\"#FF97FF\",\"#FECB52\"],\"font\":{\"color\":\"#2a3f5f\"},\"hovermode\":\"closest\",\"hoverlabel\":{\"align\":\"left\"},\"paper_bgcolor\":\"white\",\"plot_bgcolor\":\"#E5ECF6\",\"polar\":{\"bgcolor\":\"#E5ECF6\",\"angularaxis\":{\"gridcolor\":\"white\",\"linecolor\":\"white\",\"ticks\":\"\"},\"radialaxis\":{\"gridcolor\":\"white\",\"linecolor\":\"white\",\"ticks\":\"\"}},\"ternary\":{\"bgcolor\":\"#E5ECF6\",\"aaxis\":{\"gridcolor\":\"white\",\"linecolor\":\"white\",\"ticks\":\"\"},\"baxis\":{\"gridcolor\":\"white\",\"linecolor\":\"white\",\"ticks\":\"\"},\"caxis\":{\"gridcolor\":\"white\",\"linecolor\":\"white\",\"ticks\":\"\"}},\"coloraxis\":{\"colorbar\":{\"outlinewidth\":0,\"ticks\":\"\"}},\"colorscale\":{\"sequential\":[[0.0,\"#0d0887\"],[0.1111111111111111,\"#46039f\"],[0.2222222222222222,\"#7201a8\"],[0.3333333333333333,\"#9c179e\"],[0.4444444444444444,\"#bd3786\"],[0.5555555555555556,\"#d8576b\"],[0.6666666666666666,\"#ed7953\"],[0.7777777777777778,\"#fb9f3a\"],[0.8888888888888888,\"#fdca26\"],[1.0,\"#f0f921\"]],\"sequentialminus\":[[0.0,\"#0d0887\"],[0.1111111111111111,\"#46039f\"],[0.2222222222222222,\"#7201a8\"],[0.3333333333333333,\"#9c179e\"],[0.4444444444444444,\"#bd3786\"],[0.5555555555555556,\"#d8576b\"],[0.6666666666666666,\"#ed7953\"],[0.7777777777777778,\"#fb9f3a\"],[0.8888888888888888,\"#fdca26\"],[1.0,\"#f0f921\"]],\"diverging\":[[0,\"#8e0152\"],[0.1,\"#c51b7d\"],[0.2,\"#de77ae\"],[0.3,\"#f1b6da\"],[0.4,\"#fde0ef\"],[0.5,\"#f7f7f7\"],[0.6,\"#e6f5d0\"],[0.7,\"#b8e186\"],[0.8,\"#7fbc41\"],[0.9,\"#4d9221\"],[1,\"#276419\"]]},\"xaxis\":{\"gridcolor\":\"white\",\"linecolor\":\"white\",\"ticks\":\"\",\"title\":{\"standoff\":15},\"zerolinecolor\":\"white\",\"automargin\":true,\"zerolinewidth\":2},\"yaxis\":{\"gridcolor\":\"white\",\"linecolor\":\"white\",\"ticks\":\"\",\"title\":{\"standoff\":15},\"zerolinecolor\":\"white\",\"automargin\":true,\"zerolinewidth\":2},\"scene\":{\"xaxis\":{\"backgroundcolor\":\"#E5ECF6\",\"gridcolor\":\"white\",\"linecolor\":\"white\",\"showbackground\":true,\"ticks\":\"\",\"zerolinecolor\":\"white\",\"gridwidth\":2},\"yaxis\":{\"backgroundcolor\":\"#E5ECF6\",\"gridcolor\":\"white\",\"linecolor\":\"white\",\"showbackground\":true,\"ticks\":\"\",\"zerolinecolor\":\"white\",\"gridwidth\":2},\"zaxis\":{\"backgroundcolor\":\"#E5ECF6\",\"gridcolor\":\"white\",\"linecolor\":\"white\",\"showbackground\":true,\"ticks\":\"\",\"zerolinecolor\":\"white\",\"gridwidth\":2}},\"shapedefaults\":{\"line\":{\"color\":\"#2a3f5f\"}},\"annotationdefaults\":{\"arrowcolor\":\"#2a3f5f\",\"arrowhead\":0,\"arrowwidth\":1},\"geo\":{\"bgcolor\":\"white\",\"landcolor\":\"#E5ECF6\",\"subunitcolor\":\"white\",\"showland\":true,\"showlakes\":true,\"lakecolor\":\"white\"},\"title\":{\"x\":0.05},\"mapbox\":{\"style\":\"light\"}}},\"xaxis\":{\"anchor\":\"y\",\"domain\":[0.0,0.26666666666666666],\"title\":{\"text\":\"\"},\"showticklabels\":true},\"yaxis\":{\"anchor\":\"x\",\"domain\":[0.0,0.2866666666666666],\"title\":{\"text\":\"\"},\"showticklabels\":true},\"xaxis2\":{\"anchor\":\"y2\",\"domain\":[0.3666666666666667,0.6333333333333333],\"title\":{\"text\":\"\"},\"showticklabels\":true},\"yaxis2\":{\"anchor\":\"x2\",\"domain\":[0.0,0.2866666666666666],\"showticklabels\":true,\"title\":{\"text\":\"\"}},\"xaxis3\":{\"anchor\":\"y3\",\"domain\":[0.7333333333333334,1.0],\"title\":{\"text\":\"\"},\"showticklabels\":true},\"yaxis3\":{\"anchor\":\"x3\",\"domain\":[0.0,0.2866666666666666],\"showticklabels\":true,\"title\":{\"text\":\"\"}},\"xaxis4\":{\"anchor\":\"y4\",\"domain\":[0.0,0.26666666666666666],\"showticklabels\":true,\"title\":{\"text\":\"\"}},\"yaxis4\":{\"anchor\":\"x4\",\"domain\":[0.35666666666666663,0.6433333333333333],\"title\":{\"text\":\"\"},\"showticklabels\":true},\"xaxis5\":{\"anchor\":\"y5\",\"domain\":[0.3666666666666667,0.6333333333333333],\"showticklabels\":true,\"title\":{\"text\":\"\"}},\"yaxis5\":{\"anchor\":\"x5\",\"domain\":[0.35666666666666663,0.6433333333333333],\"showticklabels\":true,\"title\":{\"text\":\"\"}},\"xaxis6\":{\"anchor\":\"y6\",\"domain\":[0.7333333333333334,1.0],\"showticklabels\":true,\"title\":{\"text\":\"\"}},\"yaxis6\":{\"anchor\":\"x6\",\"domain\":[0.35666666666666663,0.6433333333333333],\"showticklabels\":true,\"title\":{\"text\":\"\"}},\"xaxis7\":{\"anchor\":\"y7\",\"domain\":[0.0,0.26666666666666666],\"showticklabels\":true,\"title\":{\"text\":\"\"}},\"yaxis7\":{\"anchor\":\"x7\",\"domain\":[0.7133333333333333,0.9999999999999999],\"title\":{\"text\":\"\"},\"showticklabels\":true},\"xaxis8\":{\"anchor\":\"y8\",\"domain\":[0.3666666666666667,0.6333333333333333],\"showticklabels\":true,\"title\":{\"text\":\"\"}},\"yaxis8\":{\"anchor\":\"x8\",\"domain\":[0.7133333333333333,0.9999999999999999],\"showticklabels\":true,\"title\":{\"text\":\"\"}},\"xaxis9\":{\"anchor\":\"y9\",\"domain\":[0.7333333333333334,1.0],\"showticklabels\":true,\"title\":{\"text\":\"\"}},\"yaxis9\":{\"anchor\":\"x9\",\"domain\":[0.7133333333333333,0.9999999999999999],\"showticklabels\":true,\"title\":{\"text\":\"\"}},\"annotations\":[{\"font\":{},\"showarrow\":false,\"text\":\"topic=6\",\"x\":0.13333333333333333,\"xanchor\":\"center\",\"xref\":\"paper\",\"y\":0.2866666666666666,\"yanchor\":\"bottom\",\"yref\":\"paper\"},{\"font\":{},\"showarrow\":false,\"text\":\"topic=7\",\"x\":0.5,\"xanchor\":\"center\",\"xref\":\"paper\",\"y\":0.2866666666666666,\"yanchor\":\"bottom\",\"yref\":\"paper\"},{\"font\":{},\"showarrow\":false,\"text\":\"topic=8\",\"x\":0.8666666666666667,\"xanchor\":\"center\",\"xref\":\"paper\",\"y\":0.2866666666666666,\"yanchor\":\"bottom\",\"yref\":\"paper\"},{\"font\":{},\"showarrow\":false,\"text\":\"topic=3\",\"x\":0.13333333333333333,\"xanchor\":\"center\",\"xref\":\"paper\",\"y\":0.6433333333333333,\"yanchor\":\"bottom\",\"yref\":\"paper\"},{\"font\":{},\"showarrow\":false,\"text\":\"topic=4\",\"x\":0.5,\"xanchor\":\"center\",\"xref\":\"paper\",\"y\":0.6433333333333333,\"yanchor\":\"bottom\",\"yref\":\"paper\"},{\"font\":{},\"showarrow\":false,\"text\":\"topic=5\",\"x\":0.8666666666666667,\"xanchor\":\"center\",\"xref\":\"paper\",\"y\":0.6433333333333333,\"yanchor\":\"bottom\",\"yref\":\"paper\"},{\"font\":{},\"showarrow\":false,\"text\":\"topic=0\",\"x\":0.13333333333333333,\"xanchor\":\"center\",\"xref\":\"paper\",\"y\":0.9999999999999999,\"yanchor\":\"bottom\",\"yref\":\"paper\"},{\"font\":{},\"showarrow\":false,\"text\":\"topic=1\",\"x\":0.5,\"xanchor\":\"center\",\"xref\":\"paper\",\"y\":0.9999999999999999,\"yanchor\":\"bottom\",\"yref\":\"paper\"},{\"font\":{},\"showarrow\":false,\"text\":\"topic=2\",\"x\":0.8666666666666667,\"xanchor\":\"center\",\"xref\":\"paper\",\"y\":0.9999999999999999,\"yanchor\":\"bottom\",\"yref\":\"paper\"}],\"coloraxis\":{\"colorbar\":{\"title\":{\"text\":\"topic\"}},\"colorscale\":[[0.0,\"#0d0887\"],[0.1111111111111111,\"#46039f\"],[0.2222222222222222,\"#7201a8\"],[0.3333333333333333,\"#9c179e\"],[0.4444444444444444,\"#bd3786\"],[0.5555555555555556,\"#d8576b\"],[0.6666666666666666,\"#ed7953\"],[0.7777777777777778,\"#fb9f3a\"],[0.8888888888888888,\"#fdca26\"],[1.0,\"#f0f921\"]],\"showscale\":false},\"legend\":{\"tracegroupgap\":0},\"margin\":{\"t\":60},\"barmode\":\"relative\",\"height\":700},                        {\"responsive\": true}                    ).then(function(){\n",
       "                            \n",
       "var gd = document.getElementById('590f73b9-97fa-4b63-a6f6-101ac18e8fc9');\n",
       "var x = new MutationObserver(function (mutations, observer) {{\n",
       "        var display = window.getComputedStyle(gd).display;\n",
       "        if (!display || display === 'none') {{\n",
       "            console.log([gd, 'removed!']);\n",
       "            Plotly.purge(gd);\n",
       "            observer.disconnect();\n",
       "        }}\n",
       "}});\n",
       "\n",
       "// Listen for the removal of the full notebook cells\n",
       "var notebookContainer = gd.closest('#notebook-container');\n",
       "if (notebookContainer) {{\n",
       "    x.observe(notebookContainer, {childList: true});\n",
       "}}\n",
       "\n",
       "// Listen for the clearing of the current output cell\n",
       "var outputEl = gd.closest('.output');\n",
       "if (outputEl) {{\n",
       "    x.observe(outputEl, {childList: true});\n",
       "}}\n",
       "\n",
       "                        })                };                });            </script>        </div>"
      ]
     },
     "metadata": {},
     "output_type": "display_data"
    }
   ],
   "source": [
    "fig = px.bar(lda_summary[lda_summary.topic.isin(range(0, 9))], y='feature', x='importance', color='topic', \n",
    "             facet_col='topic', facet_col_wrap=3, facet_col_spacing=0.1, height=700)\n",
    "fig.update_yaxes(matches=None, showticklabels=True, title='')\n",
    "fig.update_xaxes(matches=None, showticklabels=True, title='')\n",
    "fig.update_layout(coloraxis_showscale=False)"
   ]
  },
  {
   "cell_type": "code",
   "execution_count": 123,
   "id": "f8bd74f1",
   "metadata": {},
   "outputs": [],
   "source": [
    "topic_results = LDA.transform(dtm)"
   ]
  },
  {
   "cell_type": "code",
   "execution_count": 99,
   "id": "de4d7e3e",
   "metadata": {},
   "outputs": [],
   "source": [
    "shein_df['topic_lda'] = topic_results.argmax(axis=1)"
   ]
  },
  {
   "cell_type": "code",
   "execution_count": 100,
   "id": "583aae3b",
   "metadata": {},
   "outputs": [
    {
     "data": {
      "text/plain": [
       "6     236\n",
       "19    231\n",
       "12    207\n",
       "16    201\n",
       "22    197\n",
       "7     185\n",
       "2     151\n",
       "8     150\n",
       "11    141\n",
       "3     138\n",
       "23    136\n",
       "15    131\n",
       "13    126\n",
       "21    121\n",
       "10    116\n",
       "1     108\n",
       "5      94\n",
       "20     88\n",
       "18     86\n",
       "24     82\n",
       "17     81\n",
       "25     76\n",
       "4      74\n",
       "9      55\n",
       "14     46\n",
       "0      41\n",
       "Name: topic_lda, dtype: int64"
      ]
     },
     "execution_count": 100,
     "metadata": {},
     "output_type": "execute_result"
    }
   ],
   "source": [
    "shein_df['topic_lda'].value_counts()"
   ]
  },
  {
   "cell_type": "code",
   "execution_count": null,
   "id": "b5baee15",
   "metadata": {},
   "outputs": [],
   "source": []
  }
 ],
 "metadata": {
  "kernelspec": {
   "display_name": "Python 3 (ipykernel)",
   "language": "python",
   "name": "python3"
  },
  "language_info": {
   "codemirror_mode": {
    "name": "ipython",
    "version": 3
   },
   "file_extension": ".py",
   "mimetype": "text/x-python",
   "name": "python",
   "nbconvert_exporter": "python",
   "pygments_lexer": "ipython3",
   "version": "3.9.7"
  }
 },
 "nbformat": 4,
 "nbformat_minor": 5
}
