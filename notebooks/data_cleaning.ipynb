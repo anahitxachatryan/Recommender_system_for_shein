{
 "cells": [
  {
   "cell_type": "code",
   "execution_count": 36,
   "metadata": {},
   "outputs": [],
   "source": [
    "import pandas as pd\n",
    "import os\n",
    "\n",
    "from shutil import copy"
   ]
  },
  {
   "cell_type": "code",
   "execution_count": 2,
   "metadata": {},
   "outputs": [],
   "source": [
    "path = './data/'\n",
    "shein_df = pd.read_csv(path+'shein_data.csv')"
   ]
  },
  {
   "cell_type": "code",
   "execution_count": 49,
   "metadata": {},
   "outputs": [],
   "source": [
    "# dropping rows with anomalous photos\n",
    "shein_df = shein_df[~shein_df.photo_id.str.endswith(('1_1', '1_2', '1_3', '1_4', '1_5', '1_6',\n",
    "                                                     '2_1', '2_2', '2_3', '2_4', '2_5', '2_6',\n",
    "                                                     '3_1', '3_2', '3_3', '3_4', '3_5', '3_6',\n",
    "                                                     '4_1', '4_2', '4_3', '4_4', '4_5', '4_6',\n",
    "                                                     '5_1', '5_2', '5_3', '5_4', '5_5', '5_6',\n",
    "                                                     '6_1', '6_2', '6_3', '6_4', '6_5', '6_6',\n",
    "                                                     '7_1', '7_2', '7_3', '7_4', '7_5', '7_6',\n",
    "                                                     '8_1', '8_2', '8_3', '8_4', '8_5', '8_6',\n",
    "                                                     '9_1', '9_2', '9_3', '9_4', '9_5', '9_6',\n",
    "                                                     '10_1', '10_2', '10_3', '10_4', '10_5', '10_6'))].reset_index(drop=True)"
   ]
  },
  {
   "cell_type": "code",
   "execution_count": 50,
   "metadata": {},
   "outputs": [],
   "source": [
    "# dropping duplicates\n",
    "shein_df = shein_df.drop_duplicates(subset=['link']).reset_index(drop=True)"
   ]
  },
  {
   "cell_type": "code",
   "execution_count": 57,
   "metadata": {},
   "outputs": [],
   "source": [
    "# dropping dummy images\n",
    "dummy_images = [\n",
    "    'maternity_2_52',\n",
    "    'activewear_1_82',\n",
    "    'maternity_2_58',\n",
    "    'maternity_2_60',\n",
    "    'sleep_and_lounge_1_72',\n",
    "    'sleep_and_lounge_1_73',\n",
    "    'sleep_and_lounge_1_75',\n",
    "    'sleep_and_lounge_1_76',\n",
    "    'sleep_and_lounge_1_78',\n",
    "    'sleep_and_lounge_1_79',\n",
    "    'sleep_and_lounge_1_81',\n",
    "    'sleep_and_lounge_2_25',\n",
    "    'activewear_2_55',\n",
    "    'maternity_2_54',\n",
    "    'sweatshirts_2_52',\n",
    "    'maternity_2_55',\n",
    "    'maternity_2_57',\n",
    "    'maternity_2_59',\n",
    "    'maternity_2_62',\n",
    "    'sleep_and_lounge_1_74',\n",
    "    'sleep_and_lounge_1_77',\n",
    "    'sleep_and_lounge_1_80',\n",
    "    'sleep_and_lounge_2_113',\n",
    "    'maternity_2_53',\n",
    "    'maternity_2_56',\n",
    "    'maternity_2_61'\n",
    "]\n",
    "\n",
    "shein_df = shein_df[~shein_df.photo_id.isin(dummy_images)].reset_index(drop=True)"
   ]
  },
  {
   "cell_type": "code",
   "execution_count": 60,
   "metadata": {},
   "outputs": [],
   "source": [
    "# putting photos without duplicates\n",
    "clothing_types = os.listdir('data/photos')\n",
    "\n",
    "for cloth_type in clothing_types:\n",
    "    all_photo_names = os.listdir(f'data/photos/{cloth_type}')\n",
    "    all_photo_names = [i.replace('.png', '') for i in all_photo_names]\n",
    "    needed_photos = set(all_photo_names) & set(shein_df.photo_id)\n",
    "\n",
    "    source_path = f'data/photos/{cloth_type}'\n",
    "    dst_path = 'data/photos_without_duplicates'\n",
    "\n",
    "    for photo_id in needed_photos:\n",
    "        copy(f'{source_path}/{photo_id}.png', f'{dst_path}/{photo_id}.png')"
   ]
  },
  {
   "cell_type": "code",
   "execution_count": 59,
   "metadata": {},
   "outputs": [],
   "source": [
    "shein_df.to_csv('data/shein_data_clean.csv', index=False)"
   ]
  }
 ],
 "metadata": {
  "kernelspec": {
   "display_name": "Python 3.8.8 ('base')",
   "language": "python",
   "name": "python3"
  },
  "language_info": {
   "codemirror_mode": {
    "name": "ipython",
    "version": 3
   },
   "file_extension": ".py",
   "mimetype": "text/x-python",
   "name": "python",
   "nbconvert_exporter": "python",
   "pygments_lexer": "ipython3",
   "version": "3.8.8"
  },
  "orig_nbformat": 4,
  "vscode": {
   "interpreter": {
    "hash": "f08154012ddadd8e950e6e9e035c7a7b32c136e7647e9b7c77e02eb723a8bedb"
   }
  }
 },
 "nbformat": 4,
 "nbformat_minor": 2
}
