{
 "cells": [
  {
   "cell_type": "code",
   "execution_count": 3,
   "metadata": {
    "id": "6n8PxMvo9lyr"
   },
   "outputs": [
    {
     "name": "stderr",
     "output_type": "stream",
     "text": [
      "/Users/anahitkhachatryan/anaconda3/envs/rec_sys_env/lib/python3.11/site-packages/umap/distances.py:1063: NumbaDeprecationWarning: The 'nopython' keyword argument was not supplied to the 'numba.jit' decorator. The implicit default value for this argument is currently False, but it will be changed to True in Numba 0.59.0. See https://numba.readthedocs.io/en/stable/reference/deprecation.html#deprecation-of-object-mode-fall-back-behaviour-when-using-jit for details.\n",
      "  @numba.jit()\n",
      "/Users/anahitkhachatryan/anaconda3/envs/rec_sys_env/lib/python3.11/site-packages/umap/distances.py:1071: NumbaDeprecationWarning: The 'nopython' keyword argument was not supplied to the 'numba.jit' decorator. The implicit default value for this argument is currently False, but it will be changed to True in Numba 0.59.0. See https://numba.readthedocs.io/en/stable/reference/deprecation.html#deprecation-of-object-mode-fall-back-behaviour-when-using-jit for details.\n",
      "  @numba.jit()\n",
      "/Users/anahitkhachatryan/anaconda3/envs/rec_sys_env/lib/python3.11/site-packages/umap/distances.py:1086: NumbaDeprecationWarning: The 'nopython' keyword argument was not supplied to the 'numba.jit' decorator. The implicit default value for this argument is currently False, but it will be changed to True in Numba 0.59.0. See https://numba.readthedocs.io/en/stable/reference/deprecation.html#deprecation-of-object-mode-fall-back-behaviour-when-using-jit for details.\n",
      "  @numba.jit()\n",
      "/Users/anahitkhachatryan/anaconda3/envs/rec_sys_env/lib/python3.11/site-packages/tqdm/auto.py:21: TqdmWarning: IProgress not found. Please update jupyter and ipywidgets. See https://ipywidgets.readthedocs.io/en/stable/user_install.html\n",
      "  from .autonotebook import tqdm as notebook_tqdm\n",
      "/Users/anahitkhachatryan/anaconda3/envs/rec_sys_env/lib/python3.11/site-packages/umap/umap_.py:660: NumbaDeprecationWarning: The 'nopython' keyword argument was not supplied to the 'numba.jit' decorator. The implicit default value for this argument is currently False, but it will be changed to True in Numba 0.59.0. See https://numba.readthedocs.io/en/stable/reference/deprecation.html#deprecation-of-object-mode-fall-back-behaviour-when-using-jit for details.\n",
      "  @numba.jit()\n"
     ]
    }
   ],
   "source": [
    "import pandas as pd\n",
    "import numpy as np\n",
    "\n",
    "import nltk\n",
    "from nltk.corpus import stopwords\n",
    "\n",
    "import gensim\n",
    "from gensim.utils import simple_preprocess\n",
    "\n",
    "from bertopic import BERTopic"
   ]
  },
  {
   "cell_type": "code",
   "execution_count": 4,
   "metadata": {
    "id": "xFQ_9qqhA4Mq"
   },
   "outputs": [],
   "source": [
    "w_tokenizer = nltk.tokenize.WhitespaceTokenizer()\n",
    "lemmatizer = nltk.stem.WordNetLemmatizer()\n",
    "\n",
    "# Lemmatizing the text\n",
    "def lemmatize_text(text):\n",
    "    return [lemmatizer.lemmatize(w) for w in w_tokenizer.tokenize(text)]\n",
    "\n",
    "# converting sentences to words\n",
    "def sent_to_words(sentences):\n",
    "    for sentence in sentences:\n",
    "        yield(gensim.utils.simple_preprocess(str(sentence), deacc=True))\n",
    "\n",
    "# removing stopwords\n",
    "def remove_stopwords(texts):\n",
    "    return [[word for word in simple_preprocess(str(doc))\n",
    "             if word not in stop_words] for doc in texts]"
   ]
  },
  {
   "cell_type": "code",
   "execution_count": 6,
   "metadata": {
    "id": "8P-MF7eb9r0P"
   },
   "outputs": [],
   "source": [
    "path = '../data/'\n",
    "shein_df = pd.read_csv(path+'shein_data_clean.csv')"
   ]
  },
  {
   "cell_type": "code",
   "execution_count": 7,
   "metadata": {
    "colab": {
     "base_uri": "https://localhost:8080/"
    },
    "id": "T9RnP7lTIbbP",
    "outputId": "a4271aee-daa6-437e-f428-e43aaaeea95c"
   },
   "outputs": [
    {
     "data": {
      "text/plain": [
       "Index(['link', 'price', 'title', 'photo_id', 'page_n', 'clothing_type'], dtype='object')"
      ]
     },
     "execution_count": 7,
     "metadata": {},
     "output_type": "execute_result"
    }
   ],
   "source": [
    "shein_df.columns"
   ]
  },
  {
   "cell_type": "code",
   "execution_count": 8,
   "metadata": {
    "colab": {
     "base_uri": "https://localhost:8080/"
    },
    "id": "iknP15eKIZMS",
    "outputId": "cff9084d-996a-45ff-db30-a3895d64406a"
   },
   "outputs": [
    {
     "data": {
      "text/plain": [
       "clothing_type\n",
       "costumes            360\n",
       "tops                228\n",
       "dresses             228\n",
       "bottoms             228\n",
       "two_piece_outfit    228\n",
       "outwear             228\n",
       "denim               228\n",
       "beachwear           228\n",
       "intimates           228\n",
       "wedding             228\n",
       "sweatshirts         227\n",
       "activewear          226\n",
       "maternity           217\n",
       "sleep_and_lounge    216\n",
       "Name: count, dtype: int64"
      ]
     },
     "execution_count": 8,
     "metadata": {},
     "output_type": "execute_result"
    }
   ],
   "source": [
    "shein_df.clothing_type.value_counts()"
   ]
  },
  {
   "cell_type": "code",
   "execution_count": 15,
   "metadata": {
    "colab": {
     "base_uri": "https://localhost:8080/"
    },
    "id": "o93iwDos-ZWJ",
    "outputId": "a3fd5a2f-a380-43c9-a6fe-fd29b7650a92"
   },
   "outputs": [
    {
     "name": "stderr",
     "output_type": "stream",
     "text": [
      "[nltk_data] Downloading package stopwords to\n",
      "[nltk_data]     /Users/anahitkhachatryan/nltk_data...\n",
      "[nltk_data]   Unzipping corpora/stopwords.zip.\n"
     ]
    }
   ],
   "source": [
    "# Converting the text to lowercase\n",
    "shein_df['title'] = shein_df['title'].map(lambda x: x.lower())\n",
    "\n",
    "# Lemmatization\n",
    "# nltk.download('wordnet')\n",
    "# nltk.download('omw-1.4')\n",
    "shein_df['title_lemmatized'] = shein_df['title'].apply(lemmatize_text)\n",
    "\n",
    "# Removing stopwords\n",
    "nltk.download('stopwords')\n",
    "stop_words = stopwords.words('english')\n",
    "stop_words.append(\"shein\")\n",
    "data = shein_df['title_lemmatized'].values.tolist()\n",
    "data_words = list(sent_to_words(data))\n",
    "# remove stop words\n",
    "data_words = remove_stopwords(data_words)"
   ]
  },
  {
   "cell_type": "code",
   "execution_count": 16,
   "metadata": {
    "id": "YhJqVi6O-edv"
   },
   "outputs": [],
   "source": [
    "model = BERTopic(min_topic_size=20, n_gram_range=(1,4), verbose=True)"
   ]
  },
  {
   "cell_type": "code",
   "execution_count": 17,
   "metadata": {
    "id": "lV_laQEDCD1k"
   },
   "outputs": [],
   "source": [
    "docs = data_words\n",
    "docs = np.array([(\" \").join(i) for i in docs])"
   ]
  },
  {
   "cell_type": "code",
   "execution_count": 18,
   "metadata": {
    "colab": {
     "base_uri": "https://localhost:8080/",
     "height": 101,
     "referenced_widgets": [
      "333ee78ae1744a0d8ae29d76e6769488",
      "40d7b8e9b15349549deab260a41244b3",
      "1e335a647821472fa63649abe3391733",
      "25fcdaad3ade44798bf21049b00bb095",
      "060991da6a504c7a902a139e70865c6d",
      "4e1fe7614c02464bb5d55c02f4409301",
      "b0be0f7fc58c47f0958ce47a552297bf",
      "1397b5fb2e2b42a18760f6130c60be7a",
      "4736a6d014b04902aa7e9302ad47f7e4",
      "d3962d0620da4a55b146c0e1b2764fbf",
      "b45032c126e84b6980eb04183a63a890"
     ]
    },
    "id": "gVLzcTy3-k6H",
    "outputId": "c31d60f2-850b-4581-a21c-f878ec66b829"
   },
   "outputs": [
    {
     "name": "stderr",
     "output_type": "stream",
     "text": [
      "Batches: 100%|██████████| 104/104 [00:05<00:00, 20.79it/s]\n",
      "2023-05-27 13:04:14,311 - BERTopic - Transformed documents to Embeddings\n",
      "2023-05-27 13:04:23,110 - BERTopic - Reduced dimensionality\n",
      "2023-05-27 13:04:23,167 - BERTopic - Clustered reduced embeddings\n"
     ]
    }
   ],
   "source": [
    "labels, probs = model.fit_transform(docs)"
   ]
  },
  {
   "cell_type": "code",
   "execution_count": 19,
   "metadata": {
    "id": "rSa09V2s-rz_"
   },
   "outputs": [],
   "source": [
    "shein_df['topic'] = labels"
   ]
  },
  {
   "cell_type": "code",
   "execution_count": 27,
   "metadata": {},
   "outputs": [
    {
     "data": {
      "text/plain": [
       "<bertopic._bertopic.BERTopic at 0x2a8cb6b50>"
      ]
     },
     "execution_count": 27,
     "metadata": {},
     "output_type": "execute_result"
    }
   ],
   "source": [
    "model"
   ]
  },
  {
   "cell_type": "code",
   "execution_count": 20,
   "metadata": {
    "colab": {
     "base_uri": "https://localhost:8080/",
     "height": 767
    },
    "id": "qBB4bAbh-ytX",
    "outputId": "a26a19aa-e723-47a8-da71-0e463f7453ed"
   },
   "outputs": [
    {
     "data": {
      "application/vnd.plotly.v1+json": {
       "config": {
        "plotlyServerURL": "https://plot.ly"
       },
       "data": [
        {
         "marker": {
          "color": "#D55E00"
         },
         "orientation": "h",
         "type": "bar",
         "x": [
          0.016500607437802118,
          0.01750885017969808,
          0.019558267887184542,
          0.02478894107287063,
          0.030746625136066668
         ],
         "xaxis": "x",
         "y": [
          "hem  ",
          "cami  ",
          "skirt  ",
          "top  ",
          "dress  "
         ],
         "yaxis": "y"
        },
        {
         "marker": {
          "color": "#0072B2"
         },
         "orientation": "h",
         "type": "bar",
         "x": [
          0.03129334438121195,
          0.031602172754677166,
          0.04590661038739877,
          0.05205097646133429,
          0.07898052944770996
         ],
         "xaxis": "x2",
         "y": [
          "set  ",
          "costume dress  ",
          "costume set  ",
          "pack  ",
          "costume  "
         ],
         "yaxis": "y2"
        },
        {
         "marker": {
          "color": "#CC79A7"
         },
         "orientation": "h",
         "type": "bar",
         "x": [
          0.02820785665239778,
          0.030356533647832033,
          0.03167653465066757,
          0.056302366476398205,
          0.06087620509107388
         ],
         "xaxis": "x3",
         "y": [
          "front  ",
          "open  ",
          "open front  ",
          "jacket  ",
          "coat  "
         ],
         "yaxis": "y3"
        },
        {
         "marker": {
          "color": "#E69F00"
         },
         "orientation": "h",
         "type": "bar",
         "x": [
          0.04223159805595629,
          0.04223159805595629,
          0.0781166837225031,
          0.0832773226385117,
          0.10053825614718893
         ],
         "xaxis": "x4",
         "y": [
          "piece swimsuit  ",
          "piece  ",
          "bikini swimsuit  ",
          "bikini  ",
          "swimsuit  "
         ],
         "yaxis": "y4"
        },
        {
         "marker": {
          "color": "#56B4E9"
         },
         "orientation": "h",
         "type": "bar",
         "x": [
          0.04121693543049375,
          0.048690932236210765,
          0.06600493222768895,
          0.06634421352942815,
          0.099145187241795
         ],
         "xaxis": "x5",
         "y": [
          "sport set  ",
          "seamless  ",
          "legging  ",
          "sport legging  ",
          "sport  "
         ],
         "yaxis": "y5"
        },
        {
         "marker": {
          "color": "#009E73"
         },
         "orientation": "h",
         "type": "bar",
         "x": [
          0.01964399017364055,
          0.020182587544107886,
          0.04260127511729013,
          0.07722645848384672,
          0.10363031332073817
         ],
         "xaxis": "x6",
         "y": [
          "sleeve  ",
          "belted  ",
          "dress  ",
          "dress maternity  ",
          "maternity  "
         ],
         "yaxis": "y6"
        },
        {
         "marker": {
          "color": "#F0E442"
         },
         "orientation": "h",
         "type": "bar",
         "x": [
          0.07867646052421401,
          0.08733469762684776,
          0.10622568434890685,
          0.12953112822275153,
          0.1315511244268123
         ],
         "xaxis": "x7",
         "y": [
          "faux pearl  ",
          "rhinestone  ",
          "decor bridal  ",
          "bridal  ",
          "decor  "
         ],
         "yaxis": "y7"
        },
        {
         "marker": {
          "color": "#D55E00"
         },
         "orientation": "h",
         "type": "bar",
         "x": [
          0.04153734613621957,
          0.04604803710039343,
          0.0672286008114209,
          0.07386725643768771,
          0.1076494353710114
         ],
         "xaxis": "x8",
         "y": [
          "wide leg  ",
          "wide leg pant  ",
          "leg  ",
          "leg pant  ",
          "pant  "
         ],
         "yaxis": "y8"
        },
        {
         "marker": {
          "color": "#0072B2"
         },
         "orientation": "h",
         "type": "bar",
         "x": [
          0.02890199378438086,
          0.03392307439487307,
          0.03392307439487307,
          0.04694651582939728,
          0.09903243096240699
         ],
         "xaxis": "x9",
         "y": [
          "sleeve blouse  ",
          "batwing sleeve  ",
          "batwing  ",
          "sleeve  ",
          "blouse  "
         ],
         "yaxis": "y9"
        },
        {
         "marker": {
          "color": "#CC79A7"
         },
         "orientation": "h",
         "type": "bar",
         "x": [
          0.033900503895571754,
          0.033900503895571754,
          0.06940317022717153,
          0.10582279757353288,
          0.10582279757353288
         ],
         "xaxis": "x10",
         "y": [
          "short pj  ",
          "short pj set  ",
          "set  ",
          "pj set  ",
          "pj  "
         ],
         "yaxis": "y10"
        },
        {
         "marker": {
          "color": "#E69F00"
         },
         "orientation": "h",
         "type": "bar",
         "x": [
          0.07327119159855411,
          0.08612353122622553,
          0.08795204334745432,
          0.11775541805203987,
          0.12946748305590322
         ],
         "xaxis": "x11",
         "y": [
          "raw hem  ",
          "raw  ",
          "short  ",
          "denim short  ",
          "denim  "
         ],
         "yaxis": "y11"
        },
        {
         "marker": {
          "color": "#56B4E9"
         },
         "orientation": "h",
         "type": "bar",
         "x": [
          0.04507811141886333,
          0.046366948607537366,
          0.04924918220997377,
          0.05324738728475447,
          0.10153640168608552
         ],
         "xaxis": "x12",
         "y": [
          "graphic  ",
          "letter graphic  ",
          "letter  ",
          "pullover  ",
          "tee  "
         ],
         "yaxis": "y12"
        }
       ],
       "layout": {
        "annotations": [
         {
          "font": {
           "size": 16
          },
          "showarrow": false,
          "text": "Topic 0",
          "x": 0.0875,
          "xanchor": "center",
          "xref": "paper",
          "y": 1,
          "yanchor": "bottom",
          "yref": "paper"
         },
         {
          "font": {
           "size": 16
          },
          "showarrow": false,
          "text": "Topic 1",
          "x": 0.36250000000000004,
          "xanchor": "center",
          "xref": "paper",
          "y": 1,
          "yanchor": "bottom",
          "yref": "paper"
         },
         {
          "font": {
           "size": 16
          },
          "showarrow": false,
          "text": "Topic 2",
          "x": 0.6375000000000001,
          "xanchor": "center",
          "xref": "paper",
          "y": 1,
          "yanchor": "bottom",
          "yref": "paper"
         },
         {
          "font": {
           "size": 16
          },
          "showarrow": false,
          "text": "Topic 3",
          "x": 0.9125,
          "xanchor": "center",
          "xref": "paper",
          "y": 1,
          "yanchor": "bottom",
          "yref": "paper"
         },
         {
          "font": {
           "size": 16
          },
          "showarrow": false,
          "text": "Topic 4",
          "x": 0.0875,
          "xanchor": "center",
          "xref": "paper",
          "y": 0.6222222222222222,
          "yanchor": "bottom",
          "yref": "paper"
         },
         {
          "font": {
           "size": 16
          },
          "showarrow": false,
          "text": "Topic 5",
          "x": 0.36250000000000004,
          "xanchor": "center",
          "xref": "paper",
          "y": 0.6222222222222222,
          "yanchor": "bottom",
          "yref": "paper"
         },
         {
          "font": {
           "size": 16
          },
          "showarrow": false,
          "text": "Topic 6",
          "x": 0.6375000000000001,
          "xanchor": "center",
          "xref": "paper",
          "y": 0.6222222222222222,
          "yanchor": "bottom",
          "yref": "paper"
         },
         {
          "font": {
           "size": 16
          },
          "showarrow": false,
          "text": "Topic 7",
          "x": 0.9125,
          "xanchor": "center",
          "xref": "paper",
          "y": 0.6222222222222222,
          "yanchor": "bottom",
          "yref": "paper"
         },
         {
          "font": {
           "size": 16
          },
          "showarrow": false,
          "text": "Topic 8",
          "x": 0.0875,
          "xanchor": "center",
          "xref": "paper",
          "y": 0.24444444444444446,
          "yanchor": "bottom",
          "yref": "paper"
         },
         {
          "font": {
           "size": 16
          },
          "showarrow": false,
          "text": "Topic 9",
          "x": 0.36250000000000004,
          "xanchor": "center",
          "xref": "paper",
          "y": 0.24444444444444446,
          "yanchor": "bottom",
          "yref": "paper"
         },
         {
          "font": {
           "size": 16
          },
          "showarrow": false,
          "text": "Topic 10",
          "x": 0.6375000000000001,
          "xanchor": "center",
          "xref": "paper",
          "y": 0.24444444444444446,
          "yanchor": "bottom",
          "yref": "paper"
         },
         {
          "font": {
           "size": 16
          },
          "showarrow": false,
          "text": "Topic 11",
          "x": 0.9125,
          "xanchor": "center",
          "xref": "paper",
          "y": 0.24444444444444446,
          "yanchor": "bottom",
          "yref": "paper"
         }
        ],
        "height": 750,
        "hoverlabel": {
         "bgcolor": "white",
         "font": {
          "family": "Rockwell",
          "size": 16
         }
        },
        "showlegend": false,
        "template": {
         "data": {
          "bar": [
           {
            "error_x": {
             "color": "#2a3f5f"
            },
            "error_y": {
             "color": "#2a3f5f"
            },
            "marker": {
             "line": {
              "color": "white",
              "width": 0.5
             },
             "pattern": {
              "fillmode": "overlay",
              "size": 10,
              "solidity": 0.2
             }
            },
            "type": "bar"
           }
          ],
          "barpolar": [
           {
            "marker": {
             "line": {
              "color": "white",
              "width": 0.5
             },
             "pattern": {
              "fillmode": "overlay",
              "size": 10,
              "solidity": 0.2
             }
            },
            "type": "barpolar"
           }
          ],
          "carpet": [
           {
            "aaxis": {
             "endlinecolor": "#2a3f5f",
             "gridcolor": "#C8D4E3",
             "linecolor": "#C8D4E3",
             "minorgridcolor": "#C8D4E3",
             "startlinecolor": "#2a3f5f"
            },
            "baxis": {
             "endlinecolor": "#2a3f5f",
             "gridcolor": "#C8D4E3",
             "linecolor": "#C8D4E3",
             "minorgridcolor": "#C8D4E3",
             "startlinecolor": "#2a3f5f"
            },
            "type": "carpet"
           }
          ],
          "choropleth": [
           {
            "colorbar": {
             "outlinewidth": 0,
             "ticks": ""
            },
            "type": "choropleth"
           }
          ],
          "contour": [
           {
            "colorbar": {
             "outlinewidth": 0,
             "ticks": ""
            },
            "colorscale": [
             [
              0,
              "#0d0887"
             ],
             [
              0.1111111111111111,
              "#46039f"
             ],
             [
              0.2222222222222222,
              "#7201a8"
             ],
             [
              0.3333333333333333,
              "#9c179e"
             ],
             [
              0.4444444444444444,
              "#bd3786"
             ],
             [
              0.5555555555555556,
              "#d8576b"
             ],
             [
              0.6666666666666666,
              "#ed7953"
             ],
             [
              0.7777777777777778,
              "#fb9f3a"
             ],
             [
              0.8888888888888888,
              "#fdca26"
             ],
             [
              1,
              "#f0f921"
             ]
            ],
            "type": "contour"
           }
          ],
          "contourcarpet": [
           {
            "colorbar": {
             "outlinewidth": 0,
             "ticks": ""
            },
            "type": "contourcarpet"
           }
          ],
          "heatmap": [
           {
            "colorbar": {
             "outlinewidth": 0,
             "ticks": ""
            },
            "colorscale": [
             [
              0,
              "#0d0887"
             ],
             [
              0.1111111111111111,
              "#46039f"
             ],
             [
              0.2222222222222222,
              "#7201a8"
             ],
             [
              0.3333333333333333,
              "#9c179e"
             ],
             [
              0.4444444444444444,
              "#bd3786"
             ],
             [
              0.5555555555555556,
              "#d8576b"
             ],
             [
              0.6666666666666666,
              "#ed7953"
             ],
             [
              0.7777777777777778,
              "#fb9f3a"
             ],
             [
              0.8888888888888888,
              "#fdca26"
             ],
             [
              1,
              "#f0f921"
             ]
            ],
            "type": "heatmap"
           }
          ],
          "heatmapgl": [
           {
            "colorbar": {
             "outlinewidth": 0,
             "ticks": ""
            },
            "colorscale": [
             [
              0,
              "#0d0887"
             ],
             [
              0.1111111111111111,
              "#46039f"
             ],
             [
              0.2222222222222222,
              "#7201a8"
             ],
             [
              0.3333333333333333,
              "#9c179e"
             ],
             [
              0.4444444444444444,
              "#bd3786"
             ],
             [
              0.5555555555555556,
              "#d8576b"
             ],
             [
              0.6666666666666666,
              "#ed7953"
             ],
             [
              0.7777777777777778,
              "#fb9f3a"
             ],
             [
              0.8888888888888888,
              "#fdca26"
             ],
             [
              1,
              "#f0f921"
             ]
            ],
            "type": "heatmapgl"
           }
          ],
          "histogram": [
           {
            "marker": {
             "pattern": {
              "fillmode": "overlay",
              "size": 10,
              "solidity": 0.2
             }
            },
            "type": "histogram"
           }
          ],
          "histogram2d": [
           {
            "colorbar": {
             "outlinewidth": 0,
             "ticks": ""
            },
            "colorscale": [
             [
              0,
              "#0d0887"
             ],
             [
              0.1111111111111111,
              "#46039f"
             ],
             [
              0.2222222222222222,
              "#7201a8"
             ],
             [
              0.3333333333333333,
              "#9c179e"
             ],
             [
              0.4444444444444444,
              "#bd3786"
             ],
             [
              0.5555555555555556,
              "#d8576b"
             ],
             [
              0.6666666666666666,
              "#ed7953"
             ],
             [
              0.7777777777777778,
              "#fb9f3a"
             ],
             [
              0.8888888888888888,
              "#fdca26"
             ],
             [
              1,
              "#f0f921"
             ]
            ],
            "type": "histogram2d"
           }
          ],
          "histogram2dcontour": [
           {
            "colorbar": {
             "outlinewidth": 0,
             "ticks": ""
            },
            "colorscale": [
             [
              0,
              "#0d0887"
             ],
             [
              0.1111111111111111,
              "#46039f"
             ],
             [
              0.2222222222222222,
              "#7201a8"
             ],
             [
              0.3333333333333333,
              "#9c179e"
             ],
             [
              0.4444444444444444,
              "#bd3786"
             ],
             [
              0.5555555555555556,
              "#d8576b"
             ],
             [
              0.6666666666666666,
              "#ed7953"
             ],
             [
              0.7777777777777778,
              "#fb9f3a"
             ],
             [
              0.8888888888888888,
              "#fdca26"
             ],
             [
              1,
              "#f0f921"
             ]
            ],
            "type": "histogram2dcontour"
           }
          ],
          "mesh3d": [
           {
            "colorbar": {
             "outlinewidth": 0,
             "ticks": ""
            },
            "type": "mesh3d"
           }
          ],
          "parcoords": [
           {
            "line": {
             "colorbar": {
              "outlinewidth": 0,
              "ticks": ""
             }
            },
            "type": "parcoords"
           }
          ],
          "pie": [
           {
            "automargin": true,
            "type": "pie"
           }
          ],
          "scatter": [
           {
            "fillpattern": {
             "fillmode": "overlay",
             "size": 10,
             "solidity": 0.2
            },
            "type": "scatter"
           }
          ],
          "scatter3d": [
           {
            "line": {
             "colorbar": {
              "outlinewidth": 0,
              "ticks": ""
             }
            },
            "marker": {
             "colorbar": {
              "outlinewidth": 0,
              "ticks": ""
             }
            },
            "type": "scatter3d"
           }
          ],
          "scattercarpet": [
           {
            "marker": {
             "colorbar": {
              "outlinewidth": 0,
              "ticks": ""
             }
            },
            "type": "scattercarpet"
           }
          ],
          "scattergeo": [
           {
            "marker": {
             "colorbar": {
              "outlinewidth": 0,
              "ticks": ""
             }
            },
            "type": "scattergeo"
           }
          ],
          "scattergl": [
           {
            "marker": {
             "colorbar": {
              "outlinewidth": 0,
              "ticks": ""
             }
            },
            "type": "scattergl"
           }
          ],
          "scattermapbox": [
           {
            "marker": {
             "colorbar": {
              "outlinewidth": 0,
              "ticks": ""
             }
            },
            "type": "scattermapbox"
           }
          ],
          "scatterpolar": [
           {
            "marker": {
             "colorbar": {
              "outlinewidth": 0,
              "ticks": ""
             }
            },
            "type": "scatterpolar"
           }
          ],
          "scatterpolargl": [
           {
            "marker": {
             "colorbar": {
              "outlinewidth": 0,
              "ticks": ""
             }
            },
            "type": "scatterpolargl"
           }
          ],
          "scatterternary": [
           {
            "marker": {
             "colorbar": {
              "outlinewidth": 0,
              "ticks": ""
             }
            },
            "type": "scatterternary"
           }
          ],
          "surface": [
           {
            "colorbar": {
             "outlinewidth": 0,
             "ticks": ""
            },
            "colorscale": [
             [
              0,
              "#0d0887"
             ],
             [
              0.1111111111111111,
              "#46039f"
             ],
             [
              0.2222222222222222,
              "#7201a8"
             ],
             [
              0.3333333333333333,
              "#9c179e"
             ],
             [
              0.4444444444444444,
              "#bd3786"
             ],
             [
              0.5555555555555556,
              "#d8576b"
             ],
             [
              0.6666666666666666,
              "#ed7953"
             ],
             [
              0.7777777777777778,
              "#fb9f3a"
             ],
             [
              0.8888888888888888,
              "#fdca26"
             ],
             [
              1,
              "#f0f921"
             ]
            ],
            "type": "surface"
           }
          ],
          "table": [
           {
            "cells": {
             "fill": {
              "color": "#EBF0F8"
             },
             "line": {
              "color": "white"
             }
            },
            "header": {
             "fill": {
              "color": "#C8D4E3"
             },
             "line": {
              "color": "white"
             }
            },
            "type": "table"
           }
          ]
         },
         "layout": {
          "annotationdefaults": {
           "arrowcolor": "#2a3f5f",
           "arrowhead": 0,
           "arrowwidth": 1
          },
          "autotypenumbers": "strict",
          "coloraxis": {
           "colorbar": {
            "outlinewidth": 0,
            "ticks": ""
           }
          },
          "colorscale": {
           "diverging": [
            [
             0,
             "#8e0152"
            ],
            [
             0.1,
             "#c51b7d"
            ],
            [
             0.2,
             "#de77ae"
            ],
            [
             0.3,
             "#f1b6da"
            ],
            [
             0.4,
             "#fde0ef"
            ],
            [
             0.5,
             "#f7f7f7"
            ],
            [
             0.6,
             "#e6f5d0"
            ],
            [
             0.7,
             "#b8e186"
            ],
            [
             0.8,
             "#7fbc41"
            ],
            [
             0.9,
             "#4d9221"
            ],
            [
             1,
             "#276419"
            ]
           ],
           "sequential": [
            [
             0,
             "#0d0887"
            ],
            [
             0.1111111111111111,
             "#46039f"
            ],
            [
             0.2222222222222222,
             "#7201a8"
            ],
            [
             0.3333333333333333,
             "#9c179e"
            ],
            [
             0.4444444444444444,
             "#bd3786"
            ],
            [
             0.5555555555555556,
             "#d8576b"
            ],
            [
             0.6666666666666666,
             "#ed7953"
            ],
            [
             0.7777777777777778,
             "#fb9f3a"
            ],
            [
             0.8888888888888888,
             "#fdca26"
            ],
            [
             1,
             "#f0f921"
            ]
           ],
           "sequentialminus": [
            [
             0,
             "#0d0887"
            ],
            [
             0.1111111111111111,
             "#46039f"
            ],
            [
             0.2222222222222222,
             "#7201a8"
            ],
            [
             0.3333333333333333,
             "#9c179e"
            ],
            [
             0.4444444444444444,
             "#bd3786"
            ],
            [
             0.5555555555555556,
             "#d8576b"
            ],
            [
             0.6666666666666666,
             "#ed7953"
            ],
            [
             0.7777777777777778,
             "#fb9f3a"
            ],
            [
             0.8888888888888888,
             "#fdca26"
            ],
            [
             1,
             "#f0f921"
            ]
           ]
          },
          "colorway": [
           "#636efa",
           "#EF553B",
           "#00cc96",
           "#ab63fa",
           "#FFA15A",
           "#19d3f3",
           "#FF6692",
           "#B6E880",
           "#FF97FF",
           "#FECB52"
          ],
          "font": {
           "color": "#2a3f5f"
          },
          "geo": {
           "bgcolor": "white",
           "lakecolor": "white",
           "landcolor": "white",
           "showlakes": true,
           "showland": true,
           "subunitcolor": "#C8D4E3"
          },
          "hoverlabel": {
           "align": "left"
          },
          "hovermode": "closest",
          "mapbox": {
           "style": "light"
          },
          "paper_bgcolor": "white",
          "plot_bgcolor": "white",
          "polar": {
           "angularaxis": {
            "gridcolor": "#EBF0F8",
            "linecolor": "#EBF0F8",
            "ticks": ""
           },
           "bgcolor": "white",
           "radialaxis": {
            "gridcolor": "#EBF0F8",
            "linecolor": "#EBF0F8",
            "ticks": ""
           }
          },
          "scene": {
           "xaxis": {
            "backgroundcolor": "white",
            "gridcolor": "#DFE8F3",
            "gridwidth": 2,
            "linecolor": "#EBF0F8",
            "showbackground": true,
            "ticks": "",
            "zerolinecolor": "#EBF0F8"
           },
           "yaxis": {
            "backgroundcolor": "white",
            "gridcolor": "#DFE8F3",
            "gridwidth": 2,
            "linecolor": "#EBF0F8",
            "showbackground": true,
            "ticks": "",
            "zerolinecolor": "#EBF0F8"
           },
           "zaxis": {
            "backgroundcolor": "white",
            "gridcolor": "#DFE8F3",
            "gridwidth": 2,
            "linecolor": "#EBF0F8",
            "showbackground": true,
            "ticks": "",
            "zerolinecolor": "#EBF0F8"
           }
          },
          "shapedefaults": {
           "line": {
            "color": "#2a3f5f"
           }
          },
          "ternary": {
           "aaxis": {
            "gridcolor": "#DFE8F3",
            "linecolor": "#A2B1C6",
            "ticks": ""
           },
           "baxis": {
            "gridcolor": "#DFE8F3",
            "linecolor": "#A2B1C6",
            "ticks": ""
           },
           "bgcolor": "white",
           "caxis": {
            "gridcolor": "#DFE8F3",
            "linecolor": "#A2B1C6",
            "ticks": ""
           }
          },
          "title": {
           "x": 0.05
          },
          "xaxis": {
           "automargin": true,
           "gridcolor": "#EBF0F8",
           "linecolor": "#EBF0F8",
           "ticks": "",
           "title": {
            "standoff": 15
           },
           "zerolinecolor": "#EBF0F8",
           "zerolinewidth": 2
          },
          "yaxis": {
           "automargin": true,
           "gridcolor": "#EBF0F8",
           "linecolor": "#EBF0F8",
           "ticks": "",
           "title": {
            "standoff": 15
           },
           "zerolinecolor": "#EBF0F8",
           "zerolinewidth": 2
          }
         }
        },
        "title": {
         "font": {
          "color": "Black",
          "size": 22
         },
         "text": "Topic Word Scores",
         "x": 0.5,
         "xanchor": "center",
         "yanchor": "top"
        },
        "width": 1000,
        "xaxis": {
         "anchor": "y",
         "domain": [
          0,
          0.175
         ],
         "showgrid": true
        },
        "xaxis10": {
         "anchor": "y10",
         "domain": [
          0.275,
          0.45
         ],
         "showgrid": true
        },
        "xaxis11": {
         "anchor": "y11",
         "domain": [
          0.55,
          0.7250000000000001
         ],
         "showgrid": true
        },
        "xaxis12": {
         "anchor": "y12",
         "domain": [
          0.825,
          1
         ],
         "showgrid": true
        },
        "xaxis2": {
         "anchor": "y2",
         "domain": [
          0.275,
          0.45
         ],
         "showgrid": true
        },
        "xaxis3": {
         "anchor": "y3",
         "domain": [
          0.55,
          0.7250000000000001
         ],
         "showgrid": true
        },
        "xaxis4": {
         "anchor": "y4",
         "domain": [
          0.825,
          1
         ],
         "showgrid": true
        },
        "xaxis5": {
         "anchor": "y5",
         "domain": [
          0,
          0.175
         ],
         "showgrid": true
        },
        "xaxis6": {
         "anchor": "y6",
         "domain": [
          0.275,
          0.45
         ],
         "showgrid": true
        },
        "xaxis7": {
         "anchor": "y7",
         "domain": [
          0.55,
          0.7250000000000001
         ],
         "showgrid": true
        },
        "xaxis8": {
         "anchor": "y8",
         "domain": [
          0.825,
          1
         ],
         "showgrid": true
        },
        "xaxis9": {
         "anchor": "y9",
         "domain": [
          0,
          0.175
         ],
         "showgrid": true
        },
        "yaxis": {
         "anchor": "x",
         "domain": [
          0.7555555555555555,
          1
         ],
         "showgrid": true
        },
        "yaxis10": {
         "anchor": "x10",
         "domain": [
          0,
          0.24444444444444446
         ],
         "showgrid": true
        },
        "yaxis11": {
         "anchor": "x11",
         "domain": [
          0,
          0.24444444444444446
         ],
         "showgrid": true
        },
        "yaxis12": {
         "anchor": "x12",
         "domain": [
          0,
          0.24444444444444446
         ],
         "showgrid": true
        },
        "yaxis2": {
         "anchor": "x2",
         "domain": [
          0.7555555555555555,
          1
         ],
         "showgrid": true
        },
        "yaxis3": {
         "anchor": "x3",
         "domain": [
          0.7555555555555555,
          1
         ],
         "showgrid": true
        },
        "yaxis4": {
         "anchor": "x4",
         "domain": [
          0.7555555555555555,
          1
         ],
         "showgrid": true
        },
        "yaxis5": {
         "anchor": "x5",
         "domain": [
          0.37777777777777777,
          0.6222222222222222
         ],
         "showgrid": true
        },
        "yaxis6": {
         "anchor": "x6",
         "domain": [
          0.37777777777777777,
          0.6222222222222222
         ],
         "showgrid": true
        },
        "yaxis7": {
         "anchor": "x7",
         "domain": [
          0.37777777777777777,
          0.6222222222222222
         ],
         "showgrid": true
        },
        "yaxis8": {
         "anchor": "x8",
         "domain": [
          0.37777777777777777,
          0.6222222222222222
         ],
         "showgrid": true
        },
        "yaxis9": {
         "anchor": "x9",
         "domain": [
          0,
          0.24444444444444446
         ],
         "showgrid": true
        }
       }
      }
     },
     "metadata": {},
     "output_type": "display_data"
    }
   ],
   "source": [
    "model.visualize_barchart(top_n_topics=12)"
   ]
  },
  {
   "cell_type": "code",
   "execution_count": 34,
   "metadata": {
    "colab": {
     "base_uri": "https://localhost:8080/"
    },
    "id": "rP-Wouj9KFyT",
    "outputId": "7b45b931-4cd8-43a5-95e1-9b87b0c01717"
   },
   "outputs": [
    {
     "data": {
      "text/plain": [
       "{-1: [('waist', 0.015601653667768793),\n",
       "  ('slogan', 0.013038235526959112),\n",
       "  ('set', 0.012987316353404091),\n",
       "  ('short', 0.012983564260524405),\n",
       "  ('mesh', 0.0129441767686192),\n",
       "  ('drawstring', 0.012691523541122159),\n",
       "  ('graphic', 0.011932961102646506),\n",
       "  ('drawstring waist', 0.011684379467393449),\n",
       "  ('without', 0.011404656849961371),\n",
       "  ('thong', 0.011033347232606986)],\n",
       " 0: [('dress', 0.030746625136066668),\n",
       "  ('top', 0.02478894107287063),\n",
       "  ('skirt', 0.019558267887184542),\n",
       "  ('cami', 0.01750885017969808),\n",
       "  ('hem', 0.016500607437802118),\n",
       "  ('print', 0.016235621688495246),\n",
       "  ('bodycon', 0.015819031652244214),\n",
       "  ('split', 0.01562937414994512),\n",
       "  ('backless', 0.01480895123595177),\n",
       "  ('bridesmaid', 0.014225337961991899)],\n",
       " 1: [('costume', 0.07898052944770996),\n",
       "  ('pack', 0.05205097646133429),\n",
       "  ('costume set', 0.04590661038739877),\n",
       "  ('costume dress', 0.031602172754677166),\n",
       "  ('set', 0.03129334438121195),\n",
       "  ('costume set pack', 0.027618189854196135),\n",
       "  ('set pack', 0.026562096054323515),\n",
       "  ('maid', 0.025602944511394853),\n",
       "  ('hairhoop', 0.02518212789337935),\n",
       "  ('maid costume', 0.02518212789337935)],\n",
       " 2: [('coat', 0.06087620509107388),\n",
       "  ('jacket', 0.056302366476398205),\n",
       "  ('open front', 0.03167653465066757),\n",
       "  ('open', 0.030356533647832033),\n",
       "  ('front', 0.02820785665239778),\n",
       "  ('overcoat', 0.02706931433332901),\n",
       "  ('pocket', 0.02568456933157605),\n",
       "  ('plaid', 0.024411748023786713),\n",
       "  ('zip', 0.02391632870366634),\n",
       "  ('hooded', 0.02316834766358367)],\n",
       " 3: [('swimsuit', 0.10053825614718893),\n",
       "  ('bikini', 0.0832773226385117),\n",
       "  ('bikini swimsuit', 0.0781166837225031),\n",
       "  ('piece', 0.04223159805595629),\n",
       "  ('piece swimsuit', 0.04223159805595629),\n",
       "  ('one piece swimsuit', 0.04223159805595629),\n",
       "  ('one piece', 0.04223159805595629),\n",
       "  ('one', 0.037106997842521),\n",
       "  ('triangle', 0.029967969123788633),\n",
       "  ('push', 0.026814411764370164)],\n",
       " 4: [('sport', 0.099145187241795),\n",
       "  ('sport legging', 0.06634421352942815),\n",
       "  ('legging', 0.06600493222768895),\n",
       "  ('seamless', 0.048690932236210765),\n",
       "  ('sport set', 0.04121693543049375),\n",
       "  ('wideband', 0.03680789587493574),\n",
       "  ('wideband waist', 0.03680789587493574),\n",
       "  ('waist sport', 0.03607073169949846),\n",
       "  ('wide waistband', 0.036016313001146896),\n",
       "  ('waistband', 0.036016313001146896)],\n",
       " 5: [('maternity', 0.10363031332073817),\n",
       "  ('dress maternity', 0.07722645848384672),\n",
       "  ('dress', 0.04260127511729013),\n",
       "  ('belted', 0.020182587544107886),\n",
       "  ('sleeve', 0.01964399017364055),\n",
       "  ('maternity striped', 0.01834985049034411),\n",
       "  ('ruffle', 0.018140728355473857),\n",
       "  ('blouse maternity', 0.017856796912114687),\n",
       "  ('belted dress maternity', 0.01662357439978385),\n",
       "  ('floral', 0.0162067627369146)],\n",
       " 6: [('decor', 0.1315511244268123),\n",
       "  ('bridal', 0.12953112822275153),\n",
       "  ('decor bridal', 0.10622568434890685),\n",
       "  ('rhinestone', 0.08733469762684776),\n",
       "  ('faux pearl', 0.07867646052421401),\n",
       "  ('faux', 0.07830150265771411),\n",
       "  ('pearl', 0.07620042135129533),\n",
       "  ('rhinestone decor', 0.05735617625277985),\n",
       "  ('hair', 0.056277269525854406),\n",
       "  ('faux pearl decor', 0.0559346226271494)],\n",
       " 7: [('pant', 0.1076494353710114),\n",
       "  ('leg pant', 0.07386725643768771),\n",
       "  ('leg', 0.0672286008114209),\n",
       "  ('wide leg pant', 0.04604803710039343),\n",
       "  ('wide leg', 0.04153734613621957),\n",
       "  ('waist', 0.04118271080843895),\n",
       "  ('wide', 0.03773381416174578),\n",
       "  ('high waist', 0.0364809993698293),\n",
       "  ('flare leg', 0.03540649765648889),\n",
       "  ('flare', 0.03513845945283088)],\n",
       " 8: [('blouse', 0.09903243096240699),\n",
       "  ('sleeve', 0.04694651582939728),\n",
       "  ('batwing', 0.03392307439487307),\n",
       "  ('batwing sleeve', 0.03392307439487307),\n",
       "  ('sleeve blouse', 0.02890199378438086),\n",
       "  ('print', 0.026773676009840264),\n",
       "  ('neck', 0.023620573331165018),\n",
       "  ('shirt', 0.023607470209446542),\n",
       "  ('blouse short', 0.01909603967985007),\n",
       "  ('button', 0.018976615703516903)],\n",
       " 9: [('pj', 0.10582279757353288),\n",
       "  ('pj set', 0.10582279757353288),\n",
       "  ('set', 0.06940317022717153),\n",
       "  ('short pj set', 0.033900503895571754),\n",
       "  ('short pj', 0.033900503895571754),\n",
       "  ('satin', 0.03378576791315452),\n",
       "  ('pant pj', 0.03105800372963455),\n",
       "  ('pant pj set', 0.03105800372963455),\n",
       "  ('satin pj set', 0.027823853436234478),\n",
       "  ('satin pj', 0.027823853436234478)],\n",
       " 10: [('denim', 0.12946748305590322),\n",
       "  ('denim short', 0.11775541805203987),\n",
       "  ('short', 0.08795204334745432),\n",
       "  ('raw', 0.08612353122622553),\n",
       "  ('raw hem', 0.07327119159855411),\n",
       "  ('hem', 0.07090044564924555),\n",
       "  ('ripped', 0.06976502179467528),\n",
       "  ('hem denim', 0.06656100318847681),\n",
       "  ('hem denim short', 0.0594598322199468),\n",
       "  ('raw hem denim', 0.04398793702168571)],\n",
       " 11: [('tee', 0.10153640168608552),\n",
       "  ('pullover', 0.05324738728475447),\n",
       "  ('letter', 0.04924918220997377),\n",
       "  ('letter graphic', 0.046366948607537366),\n",
       "  ('graphic', 0.04507811141886333),\n",
       "  ('drop shoulder', 0.04222112941414332),\n",
       "  ('drop', 0.04215906272475799),\n",
       "  ('shoulder', 0.03494789784413686),\n",
       "  ('crop tee', 0.034882399486938595),\n",
       "  ('tee letter', 0.02954794309260802)],\n",
       " 12: [('hoodie', 0.12184224203474146),\n",
       "  ('drawstring', 0.08353753673387364),\n",
       "  ('thermal', 0.07621646050623002),\n",
       "  ('drawstring hoodie', 0.05787877691846251),\n",
       "  ('thermal lined', 0.057292916650514406),\n",
       "  ('lined', 0.05642246371967756),\n",
       "  ('drawstring thermal', 0.042708116517271494),\n",
       "  ('graphic', 0.04172679934969743),\n",
       "  ('lined hoodie', 0.03815169694495671),\n",
       "  ('thermal lined hoodie', 0.03815169694495671)],\n",
       " 13: [('sweatshirt', 0.1321541539611449),\n",
       "  ('shoulder sweatshirt', 0.10310352879572864),\n",
       "  ('drop shoulder sweatshirt', 0.1013370722775811),\n",
       "  ('drop shoulder', 0.08558871958046067),\n",
       "  ('drop', 0.08546290086014692),\n",
       "  ('shoulder', 0.07202550716146587),\n",
       "  ('graphic drop', 0.05290741426636136),\n",
       "  ('graphic drop shoulder', 0.05290741426636136),\n",
       "  ('graphic', 0.047213134995214234),\n",
       "  ('graphic drop shoulder sweatshirt', 0.04316055997816628)],\n",
       " 14: [('biker short', 0.14024091164991134),\n",
       "  ('biker', 0.1386503418100216),\n",
       "  ('short', 0.09182736658560547),\n",
       "  ('top biker', 0.04077260431528518),\n",
       "  ('top biker short', 0.04077260431528518),\n",
       "  ('short sxy', 0.03870801330951833),\n",
       "  ('biker short sxy', 0.038182933740076086),\n",
       "  ('short maternity', 0.03621897522718294),\n",
       "  ('biker short maternity', 0.03554595165942353),\n",
       "  ('waist biker', 0.03554595165942353)],\n",
       " 15: [('lingerie set', 0.14420864266072073),\n",
       "  ('lingerie', 0.13913578149305666),\n",
       "  ('set', 0.07488403026316127),\n",
       "  ('underwire', 0.06618047362055902),\n",
       "  ('floral lace', 0.06304195936699394),\n",
       "  ('lace', 0.06142052616793954),\n",
       "  ('lingerie set floral', 0.05304668179495349),\n",
       "  ('underwire lingerie set', 0.049856535902086475),\n",
       "  ('underwire lingerie', 0.049856535902086475),\n",
       "  ('garter', 0.049856535902086475)],\n",
       " 16: [('panty', 0.20811246597331592),\n",
       "  ('panty pack', 0.09623824796130773),\n",
       "  ('pack', 0.0708180305407125),\n",
       "  ('panty set', 0.054550359523625094),\n",
       "  ('show', 0.05113620942552489),\n",
       "  ('show panty', 0.04424456092599015),\n",
       "  ('plain', 0.04251615627122792),\n",
       "  ('tape', 0.040070407152710485),\n",
       "  ('letter tape', 0.03923789676813742),\n",
       "  ('trim panty', 0.038879387975558524)],\n",
       " 17: [('school', 0.13265580695009857),\n",
       "  ('girl costume', 0.12185767688960061),\n",
       "  ('school girl costume', 0.12185767688960061),\n",
       "  ('school girl', 0.12185767688960061),\n",
       "  ('girl', 0.12185767688960061),\n",
       "  ('girl costume set', 0.09253833051868733),\n",
       "  ('school girl costume set', 0.09253833051868733),\n",
       "  ('costume', 0.07992554538157348),\n",
       "  ('tartan', 0.07369903196348689),\n",
       "  ('costume set', 0.06544976912758144)],\n",
       " 18: [('bra', 0.16803387887997942),\n",
       "  ('underwire bra', 0.07448022708950841),\n",
       "  ('nursing', 0.0739465996700761),\n",
       "  ('underwire', 0.061281937899925504),\n",
       "  ('nursing bra', 0.05500589488499148),\n",
       "  ('bra maternity', 0.04461403533873328),\n",
       "  ('bra pack', 0.03920405927389305),\n",
       "  ('maternity', 0.03785764874213837),\n",
       "  ('nursing bra maternity', 0.03361995978996126),\n",
       "  ('lace', 0.03319602669893828)],\n",
       " 19: [('leg jean', 0.16739036037868674),\n",
       "  ('jean', 0.13214331377098681),\n",
       "  ('leg', 0.13154168905325),\n",
       "  ('leg jean high', 0.12015789793849445),\n",
       "  ('jean high', 0.10419871657165877),\n",
       "  ('leg jean high waist', 0.0942331814328681),\n",
       "  ('straight leg', 0.08594582042333382),\n",
       "  ('straight', 0.08433773782020668),\n",
       "  ('jean high waist', 0.08377027798930162),\n",
       "  ('high', 0.08295011527791488)],\n",
       " 20: [('skinny', 0.1582557626301095),\n",
       "  ('jean', 0.15640248696781045),\n",
       "  ('skinny jean', 0.14081381561204054),\n",
       "  ('jean high', 0.11455778261172714),\n",
       "  ('skinny jean high', 0.10737528227954968),\n",
       "  ('high', 0.10720617660998236),\n",
       "  ('jean high waist', 0.09914901811996357),\n",
       "  ('high waist', 0.09761328412285226),\n",
       "  ('skinny jean high waist', 0.08508469012141427),\n",
       "  ('waist', 0.08162503100110581)],\n",
       " 21: [('bomber', 0.13391469537348388),\n",
       "  ('bomber jacket', 0.13391469537348388),\n",
       "  ('bomber jacket letter', 0.11878479871134809),\n",
       "  ('jacket letter', 0.11768969593392554),\n",
       "  ('jacket', 0.10003178804125806),\n",
       "  ('letter', 0.0811277442838112),\n",
       "  ('letter patched', 0.07499262992514769),\n",
       "  ('patched', 0.06797525862174403),\n",
       "  ('bomber jacket letter patched', 0.0594758998869321),\n",
       "  ('jacket letter patched', 0.0594758998869321)],\n",
       " 22: [('kangaroo pocket', 0.16337214604859396),\n",
       "  ('kangaroo', 0.16337214604859396),\n",
       "  ('hoodie', 0.1086050601840535),\n",
       "  ('pocket', 0.10494980086482546),\n",
       "  ('thermal', 0.08605246133534679),\n",
       "  ('drawstring', 0.07678878665977135),\n",
       "  ('kangaroo pocket drawstring', 0.07098802130643853),\n",
       "  ('thermal hoodie', 0.06871686660698959),\n",
       "  ('pocket drawstring', 0.0668497500494193),\n",
       "  ('drawstring thermal hoodie', 0.06520906033700632)],\n",
       " 23: [('lettuce', 0.15342699866541978),\n",
       "  ('lettuce trim', 0.14949171785944976),\n",
       "  ('trim', 0.08534126225119935),\n",
       "  ('print lettuce trim', 0.07306250341084233),\n",
       "  ('print lettuce', 0.07306250341084233),\n",
       "  ('lettuce trim cami', 0.05295284684162401),\n",
       "  ('pj set', 0.05192217518883784),\n",
       "  ('pj', 0.05192217518883784),\n",
       "  ('trim cami', 0.04963868046732691),\n",
       "  ('set', 0.044091675342287716)],\n",
       " 24: [('jean', 0.12432764617692377),\n",
       "  ('pocket', 0.11522953737103361),\n",
       "  ('flap pocket', 0.09085768540907319),\n",
       "  ('flap', 0.08708502917393277),\n",
       "  ('cargo jean', 0.08398570936632471),\n",
       "  ('cargo', 0.08349934286177851),\n",
       "  ('slant pocket', 0.07434310206351857),\n",
       "  ('slant', 0.07434310206351857),\n",
       "  ('jean high', 0.06478890495742742),\n",
       "  ('slant pocket skinny jean', 0.061976054099652705)],\n",
       " 25: [('cover', 0.14604924702110256),\n",
       "  ('without bikini', 0.14296985394943984),\n",
       "  ('without', 0.10396133110468775),\n",
       "  ('bikini', 0.08649315281375666),\n",
       "  ('cover without bikini', 0.0723317573712063),\n",
       "  ('cover without', 0.06963703820199074),\n",
       "  ('hollow', 0.06696888115833621),\n",
       "  ('open stitch', 0.0649783542982518),\n",
       "  ('stitch', 0.057802884122087506),\n",
       "  ('dress without bikini', 0.0541486285818765)]}"
      ]
     },
     "execution_count": 34,
     "metadata": {},
     "output_type": "execute_result"
    }
   ],
   "source": [
    "topic_names = model.get_topics()\n",
    "topic_names"
   ]
  },
  {
   "cell_type": "code",
   "execution_count": 22,
   "metadata": {
    "colab": {
     "base_uri": "https://localhost:8080/"
    },
    "id": "zU1xDKENDcnh",
    "outputId": "3bdc86f6-9007-485b-cba4-f510ebe8c19d"
   },
   "outputs": [
    {
     "data": {
      "text/plain": [
       "clothing_type\n",
       "beachwear    23\n",
       "costumes      1\n",
       "Name: count, dtype: int64"
      ]
     },
     "execution_count": 22,
     "metadata": {},
     "output_type": "execute_result"
    }
   ],
   "source": [
    "shein_df[shein_df.topic == 25].clothing_type.value_counts()"
   ]
  },
  {
   "cell_type": "code",
   "execution_count": 23,
   "metadata": {
    "colab": {
     "base_uri": "https://localhost:8080/"
    },
    "id": "-92yczlkC67U",
    "outputId": "1118201f-b807-4ec8-9f26-837312227f8d"
   },
   "outputs": [
    {
     "data": {
      "text/plain": [
       "topic\n",
       " 0     796\n",
       "-1     306\n",
       " 1     276\n",
       " 2     190\n",
       " 3     177\n",
       " 4     151\n",
       " 5     142\n",
       " 6     119\n",
       " 7     112\n",
       " 8     109\n",
       " 9      94\n",
       " 10     89\n",
       " 11     87\n",
       " 12     83\n",
       " 13     76\n",
       " 14     67\n",
       " 15     55\n",
       " 16     54\n",
       " 17     53\n",
       " 18     51\n",
       " 19     39\n",
       " 20     37\n",
       " 21     30\n",
       " 22     28\n",
       " 23     27\n",
       " 24     26\n",
       " 25     24\n",
       "Name: count, dtype: int64"
      ]
     },
     "execution_count": 23,
     "metadata": {},
     "output_type": "execute_result"
    }
   ],
   "source": [
    "shein_df.topic.value_counts()"
   ]
  },
  {
   "cell_type": "code",
   "execution_count": 24,
   "metadata": {
    "id": "8dBICOKY_n6A"
   },
   "outputs": [],
   "source": [
    "shein_df.to_csv(f'{path}/shein_data_with_topics.csv', index=False)"
   ]
  },
  {
   "cell_type": "code",
   "execution_count": 26,
   "metadata": {
    "id": "9RBRJhzWNOsw"
   },
   "outputs": [],
   "source": [
    "model.save(f\"../models/topic_model\", save_embedding_model=False)"
   ]
  },
  {
   "cell_type": "code",
   "execution_count": null,
   "metadata": {
    "id": "fVvahk3_NZzf"
   },
   "outputs": [],
   "source": []
  }
 ],
 "metadata": {
  "colab": {
   "name": "topic_modeling_bertopic.ipynb",
   "provenance": []
  },
  "kernelspec": {
   "display_name": "Python 3 (ipykernel)",
   "language": "python",
   "name": "python3"
  },
  "language_info": {
   "codemirror_mode": {
    "name": "ipython",
    "version": 3
   },
   "file_extension": ".py",
   "mimetype": "text/x-python",
   "name": "python",
   "nbconvert_exporter": "python",
   "pygments_lexer": "ipython3",
   "version": "3.11.3"
  },
  "vscode": {
   "interpreter": {
    "hash": "f08154012ddadd8e950e6e9e035c7a7b32c136e7647e9b7c77e02eb723a8bedb"
   }
  },
  "widgets": {
   "application/vnd.jupyter.widget-state+json": {
    "060991da6a504c7a902a139e70865c6d": {
     "model_module": "@jupyter-widgets/base",
     "model_module_version": "1.2.0",
     "model_name": "LayoutModel",
     "state": {
      "_model_module": "@jupyter-widgets/base",
      "_model_module_version": "1.2.0",
      "_model_name": "LayoutModel",
      "_view_count": null,
      "_view_module": "@jupyter-widgets/base",
      "_view_module_version": "1.2.0",
      "_view_name": "LayoutView",
      "align_content": null,
      "align_items": null,
      "align_self": null,
      "border": null,
      "bottom": null,
      "display": null,
      "flex": null,
      "flex_flow": null,
      "grid_area": null,
      "grid_auto_columns": null,
      "grid_auto_flow": null,
      "grid_auto_rows": null,
      "grid_column": null,
      "grid_gap": null,
      "grid_row": null,
      "grid_template_areas": null,
      "grid_template_columns": null,
      "grid_template_rows": null,
      "height": null,
      "justify_content": null,
      "justify_items": null,
      "left": null,
      "margin": null,
      "max_height": null,
      "max_width": null,
      "min_height": null,
      "min_width": null,
      "object_fit": null,
      "object_position": null,
      "order": null,
      "overflow": null,
      "overflow_x": null,
      "overflow_y": null,
      "padding": null,
      "right": null,
      "top": null,
      "visibility": null,
      "width": null
     }
    },
    "1397b5fb2e2b42a18760f6130c60be7a": {
     "model_module": "@jupyter-widgets/base",
     "model_module_version": "1.2.0",
     "model_name": "LayoutModel",
     "state": {
      "_model_module": "@jupyter-widgets/base",
      "_model_module_version": "1.2.0",
      "_model_name": "LayoutModel",
      "_view_count": null,
      "_view_module": "@jupyter-widgets/base",
      "_view_module_version": "1.2.0",
      "_view_name": "LayoutView",
      "align_content": null,
      "align_items": null,
      "align_self": null,
      "border": null,
      "bottom": null,
      "display": null,
      "flex": null,
      "flex_flow": null,
      "grid_area": null,
      "grid_auto_columns": null,
      "grid_auto_flow": null,
      "grid_auto_rows": null,
      "grid_column": null,
      "grid_gap": null,
      "grid_row": null,
      "grid_template_areas": null,
      "grid_template_columns": null,
      "grid_template_rows": null,
      "height": null,
      "justify_content": null,
      "justify_items": null,
      "left": null,
      "margin": null,
      "max_height": null,
      "max_width": null,
      "min_height": null,
      "min_width": null,
      "object_fit": null,
      "object_position": null,
      "order": null,
      "overflow": null,
      "overflow_x": null,
      "overflow_y": null,
      "padding": null,
      "right": null,
      "top": null,
      "visibility": null,
      "width": null
     }
    },
    "1e335a647821472fa63649abe3391733": {
     "model_module": "@jupyter-widgets/controls",
     "model_module_version": "1.5.0",
     "model_name": "FloatProgressModel",
     "state": {
      "_dom_classes": [],
      "_model_module": "@jupyter-widgets/controls",
      "_model_module_version": "1.5.0",
      "_model_name": "FloatProgressModel",
      "_view_count": null,
      "_view_module": "@jupyter-widgets/controls",
      "_view_module_version": "1.5.0",
      "_view_name": "ProgressView",
      "bar_style": "success",
      "description": "",
      "description_tooltip": null,
      "layout": "IPY_MODEL_1397b5fb2e2b42a18760f6130c60be7a",
      "max": 110,
      "min": 0,
      "orientation": "horizontal",
      "style": "IPY_MODEL_4736a6d014b04902aa7e9302ad47f7e4",
      "value": 110
     }
    },
    "25fcdaad3ade44798bf21049b00bb095": {
     "model_module": "@jupyter-widgets/controls",
     "model_module_version": "1.5.0",
     "model_name": "HTMLModel",
     "state": {
      "_dom_classes": [],
      "_model_module": "@jupyter-widgets/controls",
      "_model_module_version": "1.5.0",
      "_model_name": "HTMLModel",
      "_view_count": null,
      "_view_module": "@jupyter-widgets/controls",
      "_view_module_version": "1.5.0",
      "_view_name": "HTMLView",
      "description": "",
      "description_tooltip": null,
      "layout": "IPY_MODEL_d3962d0620da4a55b146c0e1b2764fbf",
      "placeholder": "​",
      "style": "IPY_MODEL_b45032c126e84b6980eb04183a63a890",
      "value": " 110/110 [00:23&lt;00:00,  7.57it/s]"
     }
    },
    "333ee78ae1744a0d8ae29d76e6769488": {
     "model_module": "@jupyter-widgets/controls",
     "model_module_version": "1.5.0",
     "model_name": "HBoxModel",
     "state": {
      "_dom_classes": [],
      "_model_module": "@jupyter-widgets/controls",
      "_model_module_version": "1.5.0",
      "_model_name": "HBoxModel",
      "_view_count": null,
      "_view_module": "@jupyter-widgets/controls",
      "_view_module_version": "1.5.0",
      "_view_name": "HBoxView",
      "box_style": "",
      "children": [
       "IPY_MODEL_40d7b8e9b15349549deab260a41244b3",
       "IPY_MODEL_1e335a647821472fa63649abe3391733",
       "IPY_MODEL_25fcdaad3ade44798bf21049b00bb095"
      ],
      "layout": "IPY_MODEL_060991da6a504c7a902a139e70865c6d"
     }
    },
    "40d7b8e9b15349549deab260a41244b3": {
     "model_module": "@jupyter-widgets/controls",
     "model_module_version": "1.5.0",
     "model_name": "HTMLModel",
     "state": {
      "_dom_classes": [],
      "_model_module": "@jupyter-widgets/controls",
      "_model_module_version": "1.5.0",
      "_model_name": "HTMLModel",
      "_view_count": null,
      "_view_module": "@jupyter-widgets/controls",
      "_view_module_version": "1.5.0",
      "_view_name": "HTMLView",
      "description": "",
      "description_tooltip": null,
      "layout": "IPY_MODEL_4e1fe7614c02464bb5d55c02f4409301",
      "placeholder": "​",
      "style": "IPY_MODEL_b0be0f7fc58c47f0958ce47a552297bf",
      "value": "Batches: 100%"
     }
    },
    "4736a6d014b04902aa7e9302ad47f7e4": {
     "model_module": "@jupyter-widgets/controls",
     "model_module_version": "1.5.0",
     "model_name": "ProgressStyleModel",
     "state": {
      "_model_module": "@jupyter-widgets/controls",
      "_model_module_version": "1.5.0",
      "_model_name": "ProgressStyleModel",
      "_view_count": null,
      "_view_module": "@jupyter-widgets/base",
      "_view_module_version": "1.2.0",
      "_view_name": "StyleView",
      "bar_color": null,
      "description_width": ""
     }
    },
    "4e1fe7614c02464bb5d55c02f4409301": {
     "model_module": "@jupyter-widgets/base",
     "model_module_version": "1.2.0",
     "model_name": "LayoutModel",
     "state": {
      "_model_module": "@jupyter-widgets/base",
      "_model_module_version": "1.2.0",
      "_model_name": "LayoutModel",
      "_view_count": null,
      "_view_module": "@jupyter-widgets/base",
      "_view_module_version": "1.2.0",
      "_view_name": "LayoutView",
      "align_content": null,
      "align_items": null,
      "align_self": null,
      "border": null,
      "bottom": null,
      "display": null,
      "flex": null,
      "flex_flow": null,
      "grid_area": null,
      "grid_auto_columns": null,
      "grid_auto_flow": null,
      "grid_auto_rows": null,
      "grid_column": null,
      "grid_gap": null,
      "grid_row": null,
      "grid_template_areas": null,
      "grid_template_columns": null,
      "grid_template_rows": null,
      "height": null,
      "justify_content": null,
      "justify_items": null,
      "left": null,
      "margin": null,
      "max_height": null,
      "max_width": null,
      "min_height": null,
      "min_width": null,
      "object_fit": null,
      "object_position": null,
      "order": null,
      "overflow": null,
      "overflow_x": null,
      "overflow_y": null,
      "padding": null,
      "right": null,
      "top": null,
      "visibility": null,
      "width": null
     }
    },
    "b0be0f7fc58c47f0958ce47a552297bf": {
     "model_module": "@jupyter-widgets/controls",
     "model_module_version": "1.5.0",
     "model_name": "DescriptionStyleModel",
     "state": {
      "_model_module": "@jupyter-widgets/controls",
      "_model_module_version": "1.5.0",
      "_model_name": "DescriptionStyleModel",
      "_view_count": null,
      "_view_module": "@jupyter-widgets/base",
      "_view_module_version": "1.2.0",
      "_view_name": "StyleView",
      "description_width": ""
     }
    },
    "b45032c126e84b6980eb04183a63a890": {
     "model_module": "@jupyter-widgets/controls",
     "model_module_version": "1.5.0",
     "model_name": "DescriptionStyleModel",
     "state": {
      "_model_module": "@jupyter-widgets/controls",
      "_model_module_version": "1.5.0",
      "_model_name": "DescriptionStyleModel",
      "_view_count": null,
      "_view_module": "@jupyter-widgets/base",
      "_view_module_version": "1.2.0",
      "_view_name": "StyleView",
      "description_width": ""
     }
    },
    "d3962d0620da4a55b146c0e1b2764fbf": {
     "model_module": "@jupyter-widgets/base",
     "model_module_version": "1.2.0",
     "model_name": "LayoutModel",
     "state": {
      "_model_module": "@jupyter-widgets/base",
      "_model_module_version": "1.2.0",
      "_model_name": "LayoutModel",
      "_view_count": null,
      "_view_module": "@jupyter-widgets/base",
      "_view_module_version": "1.2.0",
      "_view_name": "LayoutView",
      "align_content": null,
      "align_items": null,
      "align_self": null,
      "border": null,
      "bottom": null,
      "display": null,
      "flex": null,
      "flex_flow": null,
      "grid_area": null,
      "grid_auto_columns": null,
      "grid_auto_flow": null,
      "grid_auto_rows": null,
      "grid_column": null,
      "grid_gap": null,
      "grid_row": null,
      "grid_template_areas": null,
      "grid_template_columns": null,
      "grid_template_rows": null,
      "height": null,
      "justify_content": null,
      "justify_items": null,
      "left": null,
      "margin": null,
      "max_height": null,
      "max_width": null,
      "min_height": null,
      "min_width": null,
      "object_fit": null,
      "object_position": null,
      "order": null,
      "overflow": null,
      "overflow_x": null,
      "overflow_y": null,
      "padding": null,
      "right": null,
      "top": null,
      "visibility": null,
      "width": null
     }
    }
   }
  }
 },
 "nbformat": 4,
 "nbformat_minor": 1
}
